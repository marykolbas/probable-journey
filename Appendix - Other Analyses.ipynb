{
 "cells": [
  {
   "cell_type": "markdown",
   "id": "c2a2137d",
   "metadata": {},
   "source": [
    "# Appendix: Other Analyses\n",
    "\n",
    "This file holds several other data analyses, tests, and regressions that did not make it to our final paper. Particularly, our Common Redpoll snow level analysis and attempts at Zero-filled Poisson, Logistic, and Linear regressions revolving around Blue Jay observations in New York State."
   ]
  },
  {
   "cell_type": "code",
   "execution_count": 1,
   "id": "fb012fe9",
   "metadata": {},
   "outputs": [],
   "source": [
    "# importing libraries\n",
    "import pandas as pd\n",
    "import numpy as np\n",
    "import seaborn as sns\n",
    "import matplotlib.pyplot as plt\n",
    "import datetime as dt\n",
    "import scipy.stats as stats"
   ]
  },
  {
   "cell_type": "code",
   "execution_count": 2,
   "id": "17a708d0",
   "metadata": {},
   "outputs": [],
   "source": [
    "# importing sql\n",
    "%load_ext sql\n",
    "\n",
    "%config SqlMagic.autopandas = True\n",
    "%config SqlMagic.feedback = False\n",
    "%config SqlMagic.displaycon = False\n",
    "\n",
    "%sql duckdb:///:memory:"
   ]
  },
  {
   "cell_type": "markdown",
   "id": "77007c47",
   "metadata": {},
   "source": [
    "### Exploring snow levels and observation counts for the Common Redpoll  \n",
    "As a secondary research question, we investigated how the Common Redpoll (_Acanthis flammea_) may tend to appear in differently sized groups at feeders when different levels of snow are present. Redpolls are a small, common feeder bird that is known to often appear in groups numbering in the hundreds.\n",
    "\n",
    "`redpoll_df.csv` was created by taking a slice of the zero-filled New York dataset (`zero_filled_join.csv`) for only entries of scientific name _Acanthis flammea_."
   ]
  },
  {
   "cell_type": "code",
   "execution_count": 3,
   "id": "52e6c238",
   "metadata": {},
   "outputs": [
    {
     "name": "stdout",
     "output_type": "stream",
     "text": [
      "Mean of redpoll count when snow is 0.0: 10.871540826785104\n",
      "Mean of redpoll count when snow is 0.001 - 5.0: 13.43467583497053\n",
      "Mean of redpoll count when snow is 5.0 - 15.001: 14.675405405405405\n",
      "Mean of redpoll count when snow is 15.001+: 19.30106237148732\n"
     ]
    }
   ],
   "source": [
    "redpoll_df = pd.read_csv(\"redpoll_df.csv\")\n",
    "print(\"Mean of redpoll count when snow is 0.0: \" + str(redpoll_df[redpoll_df['0.0'] == 1]['how_many'].mean()))\n",
    "print(\"Mean of redpoll count when snow is 0.001 - 5.0: \" + str(redpoll_df[redpoll_df['0.001'] == 1]['how_many'].mean()))\n",
    "print(\"Mean of redpoll count when snow is 5.0 - 15.001: \" + str(redpoll_df[redpoll_df['5.0'] == 1]['how_many'].mean()))\n",
    "print(\"Mean of redpoll count when snow is 15.001+: \" + str(redpoll_df[redpoll_df['15.001'] == 1]['how_many'].mean()))"
   ]
  },
  {
   "cell_type": "markdown",
   "id": "03d4e880",
   "metadata": {},
   "source": [
    "At first glance, it appears that the count of redpolls at feeders per observation increases with increasing snow depth. This can be verified with Welch's two-sample t-test to evaluate if the mean counts are statistically significantly different for observations at feeders with no snow compared to observations at feeders with over 15 cm of snow."
   ]
  },
  {
   "cell_type": "code",
   "execution_count": 6,
   "id": "f48b9ba9",
   "metadata": {},
   "outputs": [
    {
     "data": {
      "text/plain": [
       "Text(0.5, 1.0, 'Counts per observation with 15 cm+ of snow')"
      ]
     },
     "execution_count": 6,
     "metadata": {},
     "output_type": "execute_result"
    },
    {
     "data": {
      "image/png": "[encoded data removed]",
      "text/plain": [
       "<Figure size 1080x576 with 2 Axes>"
      ]
     },
     "metadata": {
      "needs_background": "light"
     },
     "output_type": "display_data"
    }
   ],
   "source": [
    "fig, (ax1, ax2) = plt.subplots(1, 2, figsize=(15,8), sharey=True)\n",
    "ax1.boxplot(redpoll_df[redpoll_df['0.0'] == 1]['how_many'])\n",
    "ax2.boxplot(redpoll_df[redpoll_df['15.001'] == 1]['how_many'])\n",
    "ax1.set_title(\"Counts per observation with 0 cm of snow\")\n",
    "ax2.set_title(\"Counts per observation with 15 cm+ of snow\")"
   ]
  },
  {
   "cell_type": "code",
   "execution_count": 7,
   "id": "6576d062",
   "metadata": {},
   "outputs": [
    {
     "data": {
      "text/plain": [
       "Ttest_indResult(statistic=-17.973353614941498, pvalue=7.843153202349893e-71)"
      ]
     },
     "execution_count": 7,
     "metadata": {},
     "output_type": "execute_result"
    }
   ],
   "source": [
    "stats.ttest_ind(redpoll_df[redpoll_df['0.0'] == 1]['how_many'], redpoll_df[redpoll_df['15.001'] == 1]['how_many'], equal_var = False)"
   ]
  },
  {
   "cell_type": "code",
   "execution_count": 16,
   "id": "47527477",
   "metadata": {},
   "outputs": [],
   "source": [
    "#removing outlier > 700 from heavy snow slice\n",
    "redpoll_heavysnow = redpoll_df[redpoll_df['15.001']==1]\n",
    "redpoll_heavysnow_no_outliers = redpoll_heavysnow[redpoll_heavysnow['how_many']<700]"
   ]
  },
  {
   "cell_type": "code",
   "execution_count": 15,
   "id": "058232c7",
   "metadata": {},
   "outputs": [
    {
     "data": {
      "text/plain": [
       "Ttest_indResult(statistic=-18.45348258160404, pvalue=2.1295227908330484e-74)"
      ]
     },
     "execution_count": 15,
     "metadata": {},
     "output_type": "execute_result"
    }
   ],
   "source": [
    "stats.ttest_ind(redpoll_df[redpoll_df['0.0'] == 1]['how_many'], redpoll_heavysnow_no_outliers['how_many'], equal_var = False)"
   ]
  },
  {
   "cell_type": "markdown",
   "id": "ef74452d",
   "metadata": {},
   "source": [
    "Notably, the t-test produces a surprisingly low p-value, indicating that the true mean of observed redpoll flock size at feeders when there is no snow on the ground is almost certainly not equal to the true mean of flock size when there is significant snow on the ground. This result could speak to behavioral changes throughout winter conditions that drive the formation of larger groups of individuals congregating around and relying heavily on specific feeders. \n",
    "\n",
    "Even removing the extremely large outlier from the 15cm+ subset of data results results in a small p-value too. \n",
    "\n",
    "The Common Redpoll are known to be in the Northeastern United States primarily in the winter, which may also be a confounding reason why the mean amount of redpolls is so high for heavy amounts of snow. Alternatively, this could be dependent on the bird's diet of seeds, which can more easily be found at bird feeders than scavanging the snow-covered ground.\n",
    "\n",
    "Due to these possible confounding factors and its divergence from the final paper's focus on housing density, this test and exploration was removed from the final paper. "
   ]
  },
  {
   "cell_type": "markdown",
   "id": "0272a4e5",
   "metadata": {},
   "source": [
    "### Zero-Inflated Poisson Regression: Predict number of birds in observation period given housing density and snow depth level\n",
    "\n",
    "As suggested by the professor, we chose to attempt a Zero-Inflated Poisson Regression, given our zero-filled data is highly zero-inflated and this could negatively affect our regression if we want to predict `how_many` counts (how many birds seen during the observation period). We consulted [this source](https://timeseriesreasoning.com/contents/zero-inflated-poisson-regression-model/) to better understand how this regression works and based our code based on this example. "
   ]
  },
  {
   "cell_type": "code",
   "execution_count": 42,
   "id": "8e6a7513",
   "metadata": {},
   "outputs": [
    {
     "name": "stdout",
     "output_type": "stream",
     "text": [
      "Returning data to local variable bluejay_join_df\n"
     ]
    }
   ],
   "source": [
    "#read in bluejay slice of zero-filled data\n",
    "csv = pd.read_csv(\"bluejay_df.csv\")\n",
    "species_limited_df = pd.DataFrame(csv)\n",
    "species_limited_df.drop(['Unnamed: 0'],  axis= 1, inplace= True)\n",
    "# dropping rows where snow depth was null\n",
    "species_limited_df = species_limited_df.dropna(subset=['snow_dep_atleast'])\n",
    "# creating new category with string corresponding to each value in snow depth (for binning in the line plots)\n",
    "species_limited_df['snow_category'] = 'No_Snow'\n",
    "species_limited_df.loc[species_limited_df['snow_dep_atleast'] == 0.001, 'snow_category'] = 'Light_Snow'\n",
    "species_limited_df.loc[species_limited_df['snow_dep_atleast'] == 5.000, 'snow_category'] = '5 to 15 cm'\n",
    "species_limited_df.loc[species_limited_df['snow_dep_atleast'] == 15.001, 'snow_category'] = 'Heavy_Snow'\n",
    "snow_dummies = pd.get_dummies(species_limited_df['snow_category'], drop_first=True)\n",
    "species_limited_df = pd.concat([species_limited_df, snow_dummies], axis=1)\n",
    "species_limited_df.drop(['snow_category', 'snow_dep_atleast'],  axis= 1, inplace= True)\n",
    "species_limited_df.head()\n",
    "# reading in raw provided data\n",
    "csv_sites = pd.read_csv(\"PFW_count_site_data_public_2021.csv\")\n",
    "#creating dataframe\n",
    "sites_df = pd.DataFrame(csv_sites)\n",
    "# keeping only the columns that will be involved in analysis\n",
    "sites_df = sites_df[['loc_id', 'proj_period_id', 'yard_type_pavement', 'yard_type_garden', 'yard_type_landsca', 'yard_type_woods', \n",
    "'yard_type_desert','hab_dcid_woods', 'hab_evgr_woods', 'hab_mixed_woods', 'hab_orchard', 'hab_park', 'hab_water_fresh', \n",
    "'hab_water_salt', 'hab_residential','hab_industrial', 'hab_agricultural', 'hab_desert_scrub', 'hab_young_woods', 'hab_swamp', \n",
    "'hab_marsh', 'brsh_piles_atleast', 'water_srcs_atleast', 'bird_baths_atleast', 'nearby_feeders', 'squirrels', 'cats', 'dogs', 'humans',\n",
    "'housing_density', 'population_atleast']]\n",
    "%sql bluejay_join_df << SELECT month, day, year, species_limited_df.loc_id, species_code, how_many, day1_am, day1_pm, day2_am, day2_pm, Light_Snow, Heavy_Snow, No_Snow, proj_period_id, yard_type_pavement, yard_type_garden, yard_type_landsca, yard_type_woods, yard_type_desert,hab_dcid_woods, hab_evgr_woods, hab_mixed_woods, hab_orchard, hab_park, hab_water_fresh, hab_water_salt, hab_residential,hab_industrial, hab_agricultural, hab_desert_scrub, hab_young_woods, hab_swamp, hab_marsh, brsh_piles_atleast, water_srcs_atleast, bird_baths_atleast, nearby_feeders, squirrels, cats, dogs, humans, housing_density, population_atleast, FROM species_limited_df INNER JOIN sites_df ON species_limited_df.loc_id = sites_df.loc_id;"
   ]
  },
  {
   "cell_type": "code",
   "execution_count": 43,
   "id": "0b66ee1c",
   "metadata": {},
   "outputs": [],
   "source": [
    "# dropping rows where housing density is null\n",
    "bluejay_join_df = bluejay_join_df.dropna(subset=['housing_density'])\n",
    "# creating new category with string \n",
    "bluejay_join_df['housing_density_bins'] = 'rural'\n",
    "bluejay_join_df.loc[bluejay_join_df['housing_density'] == 2.0, 'housing_density_bins'] = \"rural_suburban\"\n",
    "bluejay_join_df.loc[bluejay_join_df['housing_density'] == 3.0, 'housing_density_bins'] = \"suburban\"\n",
    "bluejay_join_df.loc[bluejay_join_df['housing_density'] == 4.0, 'housing_density_bins'] = \"urban\"\n",
    "density_dummies = pd.get_dummies(bluejay_join_df['housing_density_bins'], drop_first=True)\n",
    "bluejay_join_df = pd.concat([bluejay_join_df, density_dummies], axis=1)"
   ]
  },
  {
   "cell_type": "markdown",
   "id": "7e2a64c1",
   "metadata": {},
   "source": [
    "After formatting our data so that is usable and with dummy variables, below we run `ZeroInflatedPoisson` to predict `how_many` given the `housing_density` dummy variables and `snow_depth` dummy variables. \n",
    "\n",
    "We chose to split the data into a train and test set by slicing the dataset at the 0.8 mark, since the data is not necessarily organized by date but rather locationID. LocationIDs with similar values (alphabetically similar) do not necessarily have specific similarities, but are rather distinct.  "
   ]
  },
  {
   "cell_type": "code",
   "execution_count": 44,
   "id": "dbd3c073",
   "metadata": {},
   "outputs": [
    {
     "name": "stderr",
     "output_type": "stream",
     "text": [
      "C:\\Users\\mkolb\\anaconda3\\envs\\info2950\\lib\\site-packages\\statsmodels\\base\\model.py:604: ConvergenceWarning: Maximum Likelihood optimization failed to converge. Check mle_retvals\n",
      "  warnings.warn(\"Maximum Likelihood optimization failed to \"\n"
     ]
    },
    {
     "name": "stdout",
     "output_type": "stream",
     "text": [
      "Warning: Maximum number of iterations has been exceeded.\n",
      "         Current function value: 0.352211\n",
      "         Iterations: 35\n",
      "         Function evaluations: 38\n",
      "         Gradient evaluations: 38\n"
     ]
    },
    {
     "name": "stderr",
     "output_type": "stream",
     "text": [
      "C:\\Users\\mkolb\\anaconda3\\envs\\info2950\\lib\\site-packages\\statsmodels\\base\\model.py:604: ConvergenceWarning: Maximum Likelihood optimization failed to converge. Check mle_retvals\n",
      "  warnings.warn(\"Maximum Likelihood optimization failed to \"\n"
     ]
    },
    {
     "name": "stdout",
     "output_type": "stream",
     "text": [
      "                     ZeroInflatedPoisson Regression Results                    \n",
      "===============================================================================\n",
      "Dep. Variable:                how_many   No. Observations:               930263\n",
      "Model:             ZeroInflatedPoisson   Df Residuals:                   930256\n",
      "Method:                            MLE   Df Model:                            6\n",
      "Date:                 Mon, 21 Nov 2022   Pseudo R-squ.:                 0.02811\n",
      "Time:                         15:51:00   Log-Likelihood:            -3.2765e+05\n",
      "converged:                       False   LL-Null:                   -3.3713e+05\n",
      "Covariance Type:             nonrobust   LLR p-value:                     0.000\n",
      "==========================================================================================\n",
      "                             coef    std err          z      P>|z|      [0.025      0.975]\n",
      "------------------------------------------------------------------------------------------\n",
      "inflate_Intercept          2.4406      0.012    209.892      0.000       2.418       2.463\n",
      "inflate_rural_suburban     0.0980      0.011      8.893      0.000       0.076       0.120\n",
      "inflate_suburban          -0.0014      0.011     -0.129      0.897      -0.023       0.020\n",
      "inflate_urban              0.1848      0.029      6.410      0.000       0.128       0.241\n",
      "inflate_Light_Snow         0.3792      0.016     23.609      0.000       0.348       0.411\n",
      "inflate_Heavy_Snow         0.3486      0.015     23.757      0.000       0.320       0.377\n",
      "inflate_No_Snow            0.2650      0.012     21.668      0.000       0.241       0.289\n",
      "Intercept                  1.5836      0.006    247.621      0.000       1.571       1.596\n",
      "rural_suburban            -0.3710      0.006    -63.822      0.000      -0.382      -0.360\n",
      "suburban                  -0.7838      0.007   -111.496      0.000      -0.798      -0.770\n",
      "urban                     -0.8268      0.018    -45.056      0.000      -0.863      -0.791\n",
      "Light_Snow                -0.0105      0.009     -1.227      0.220      -0.027       0.006\n",
      "Heavy_Snow                 0.0402      0.008      5.112      0.000       0.025       0.056\n",
      "No_Snow                   -0.1388      0.007    -19.374      0.000      -0.153      -0.125\n",
      "==========================================================================================\n"
     ]
    }
   ],
   "source": [
    "import statsmodels.api as sm\n",
    "from patsy import dmatrices\n",
    "\n",
    "mask = np.random.rand(len(bluejay_join_df)) < 0.8\n",
    "bluejay_join_df_train = bluejay_join_df[mask]\n",
    "bluejay_join_df_test = bluejay_join_df[~mask]\n",
    "\n",
    "expr = 'how_many ~ rural_suburban + suburban + urban + Light_Snow + Heavy_Snow + No_Snow'\n",
    "y_train, X_train = dmatrices(expr, bluejay_join_df_train, return_type='dataframe')\n",
    "y_test, X_test = dmatrices(expr, bluejay_join_df_test, return_type='dataframe')\n",
    "\n",
    "zip_training_results = sm.ZeroInflatedPoisson(endog=y_train, exog=X_train, exog_infl=X_train, inflation='logit').fit()\n",
    "print(zip_training_results.summary())"
   ]
  },
  {
   "cell_type": "code",
   "execution_count": 45,
   "id": "873919ed",
   "metadata": {},
   "outputs": [
    {
     "name": "stdout",
     "output_type": "stream",
     "text": [
      "ZIP RMSE=547.9014509927857\n"
     ]
    }
   ],
   "source": [
    "zip_predictions = zip_training_results.predict(X_test,exog_infl=X_test)\n",
    "predicted_counts=np.round(zip_predictions)\n",
    "actual_counts = y_test['how_many']\n",
    "print('ZIP RMSE='+str(np.sqrt(np.sum(np.power(np.subtract(predicted_counts,actual_counts),2)))))"
   ]
  },
  {
   "cell_type": "code",
   "execution_count": 46,
   "id": "b4a299aa",
   "metadata": {},
   "outputs": [
    {
     "data": {
      "text/plain": [
       "0.0"
      ]
     },
     "execution_count": 46,
     "metadata": {},
     "output_type": "execute_result"
    }
   ],
   "source": [
    "predicted_counts.sum()"
   ]
  },
  {
   "cell_type": "markdown",
   "id": "c66fce35",
   "metadata": {},
   "source": [
    "From summing the predicted counts, it is clear that the model is predicting 0 for all values because of the primarily 0 values in the test set. This is not a good model as it does not help us answer any questions about bird observation frequency based on housing density or snow depth levels. "
   ]
  },
  {
   "cell_type": "markdown",
   "id": "4fc4dd99",
   "metadata": {},
   "source": [
    "### Logistic Regression: Predict presence of Blue Jays given housing density\n",
    "\n",
    "We also attempted to try a Logistic Regression using this zero-inflated data, understanding that it may have a similar issue to the Zero-Inflated Poisson attempt beforehand. "
   ]
  },
  {
   "cell_type": "code",
   "execution_count": 50,
   "id": "914506e5",
   "metadata": {},
   "outputs": [],
   "source": [
    "# add new column that interprets `how_many` as a binary variable for logistic regression\n",
    "bluejay_join_df['how_many_binary'] = np.where(bluejay_join_df['how_many']>0, 1, 0)"
   ]
  },
  {
   "cell_type": "code",
   "execution_count": 52,
   "id": "024e0a36",
   "metadata": {},
   "outputs": [
    {
     "name": "stdout",
     "output_type": "stream",
     "text": [
      "variables rural_suburban suburban urban\n",
      "intercept: [-2.70077955]\n",
      "slope: [[-0.14062398 -0.18930203 -0.04633117]]\n",
      "train accuracy: 0.9425618844207871\n",
      "test accuracy: 0.9421276888481862\n"
     ]
    },
    {
     "name": "stderr",
     "output_type": "stream",
     "text": [
      "C:\\Users\\mkolb\\anaconda3\\envs\\info2950\\lib\\site-packages\\sklearn\\metrics\\_classification.py:1327: UndefinedMetricWarning: Precision is ill-defined and being set to 0.0 due to no predicted samples. Use `zero_division` parameter to control this behavior.\n",
      "  _warn_prf(average, modifier, msg_start, len(result))\n",
      "C:\\Users\\mkolb\\anaconda3\\envs\\info2950\\lib\\site-packages\\sklearn\\metrics\\_classification.py:1327: UndefinedMetricWarning: Precision is ill-defined and being set to 0.0 due to no predicted samples. Use `zero_division` parameter to control this behavior.\n",
      "  _warn_prf(average, modifier, msg_start, len(result))\n"
     ]
    },
    {
     "name": "stdout",
     "output_type": "stream",
     "text": [
      "train precision: 0.0\n",
      "test precision: 0.0\n",
      "train recall: 0.0\n",
      "test recall: 0.0\n",
      "train F1: 0.0\n",
      "test F1: 0.0\n"
     ]
    }
   ],
   "source": [
    "from sklearn.linear_model import LinearRegression, LogisticRegression\n",
    "from sklearn import metrics\n",
    "from sklearn.metrics import PrecisionRecallDisplay\n",
    "from sklearn.model_selection import train_test_split\n",
    "\n",
    "X = bluejay_join_df[['rural_suburban' , 'suburban' , 'urban']]\n",
    "X_train, X_test, y_train, y_test = train_test_split(X, bluejay_join_df[\"how_many_binary\"], test_size=0.2, random_state=2950)\n",
    "\n",
    "model = LogisticRegression().fit(X_train,y_train)\n",
    "y_hat_train=model.predict(X_train)\n",
    "y_hat_test=model.predict(X_test)\n",
    "\n",
    "print(\"variables\", 'rural_suburban' , 'suburban' , 'urban')\n",
    "print('intercept:', model.intercept_)\n",
    "print('slope:', model.coef_)\n",
    "train_accuracy = metrics.accuracy_score(y_train, y_hat_train)\n",
    "print('train accuracy:', train_accuracy)\n",
    "test_accuracy = metrics.accuracy_score(y_test, y_hat_test)\n",
    "print('test accuracy:', test_accuracy)\n",
    "train_precision = metrics.precision_score(y_train, y_hat_train)\n",
    "print(\"train precision:\", train_precision)\n",
    "test_precision = metrics.precision_score(y_test, y_hat_test)\n",
    "print(\"test precision:\", test_precision)\n",
    "train_recall = metrics.recall_score(y_train, y_hat_train)\n",
    "print(\"train recall:\", train_recall)\n",
    "test_recall = metrics.recall_score(y_test, y_hat_test)\n",
    "print(\"test recall:\", test_recall)\n",
    "train_F1 = metrics.f1_score(y_train, y_hat_train)\n",
    "print(\"train F1:\", train_F1)\n",
    "test_F1 = metrics.f1_score(y_test, y_hat_test)\n",
    "print(\"test F1:\", test_F1)"
   ]
  },
  {
   "cell_type": "markdown",
   "id": "ba96f7ef",
   "metadata": {},
   "source": [
    "Unforunately, as expected, the zero-filled data for Blue Jays resulted in a model that predicts the probability `how_many_binary`= 1 to be very low for all inputs. In fact, although our accuracy is high at 94%, the precision, recall, and F1 score are all 0. This is indicative that our model is only predicting 0 for all values and therefore predicting all non-zero entries incorrect, which are a small subset of the test (and training) data. \n",
    "\n",
    "The intercept of -2.7 can be interpreted such that when all binary covariates = 0, which means the the observation is from a rural area, the probability of observing > 0 birds is $e^{-2.7}$ / (1 + $e^{-2.7}$) = 0.06297. Changing to a more populous housing density such as suburban/rural, suburban, and urban  we expect the odds of observing > 0 birds to be multiplied by $e^{\\beta}$, so by 0.8688, 0.8275, and 0.9547 respectively. \n",
    "\n",
    "From these results, it appears being in a rural area makes it more likely that you will have positive observations, urban being the second most likely, then suburban/rural and finally suburban. Although our model cannot provide accurate predicting for a new input X, it does provide us with some information about the effect of these covariates. "
   ]
  },
  {
   "cell_type": "code",
   "execution_count": null,
   "id": "5b07529f",
   "metadata": {},
   "outputs": [],
   "source": []
  }
 ],
 "metadata": {
  "kernelspec": {
   "display_name": "Python 3 (ipykernel)",
   "language": "python",
   "name": "python3"
  },
  "language_info": {
   "codemirror_mode": {
    "name": "ipython",
    "version": 3
   },
   "file_extension": ".py",
   "mimetype": "text/x-python",
   "name": "python",
   "nbconvert_exporter": "python",
   "pygments_lexer": "ipython3",
   "version": "3.8.13"
  }
 },
 "nbformat": 4,
 "nbformat_minor": 5
}
