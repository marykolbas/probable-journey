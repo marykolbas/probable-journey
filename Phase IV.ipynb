{
 "cells": [
  {
   "cell_type": "markdown",
   "id": "da723995",
   "metadata": {},
   "source": [
    "# INFO 2950 Final Project Phase II  \n",
    "Mary Kolbas (mck86)  \n",
    "Tammy Zhang (tz332)  \n"
   ]
  },
  {
   "cell_type": "markdown",
   "id": "aa3d2657",
   "metadata": {},
   "source": [
    "## Research Question\n",
    "\n",
    "**What factors about the environment and time affect how many and what species of birds are sighted at backyard feeders in New York state? Can we build a model to predict how many and what species of birds are expected based on the location/environment features, or are the bird sightings mostly random or independent of the feeder location/conditions?**\n",
    "\n",
    "- From our data exploration, when looking at the top 25 most popular birds (based on total sighting), we can explore the effect of certain environmental conditions (snow levels, housing density, etc.) or time (month, time of day, etc.) on sighting frequency and species. We want to explore whether these patterns can be explained by bird behavior such as migration patterns and seasonality or whether other factors relating to the environment have a significant impact. From domain knowledge, we already know several of these bird species are local to the area (non-migratory). This makes our question especially interesting for cases where a species' sightings have unexplained peaks.\n",
    "\n"
   ]
  },
  {
   "cell_type": "markdown",
   "id": "d483dcbc",
   "metadata": {},
   "source": [
    "## Data Cleaning (Appendix, Draft)\n",
    "Project FeederWatch is a citizen-science-based data source supported by the Cornell Lab of Ornithology, which collects observations of bird species at backyard feeders and habitats all over the world in an annual November-April survey.\n",
    "\n",
    "Our raw file comes from the [Project FeederWatch](https://feederwatch.org/explore/raw-dataset-requests/) 2021 New York checklist data and site description data. This file is extremely large and has sightings from about November 2020 to April 2021. After downloading the file, we used an R function provided by FeederWatch to conduct taxonomic roll-up and zero-filling, two procedures recommended by FeederWatch to limit errors. The R code used to clean is provided [here](https://engagement-center.github.io/Project-FeederWatch-Zerofilling-Taxonomic-Rollup-Public/).\n",
    "\n",
    "1. *Taxonomic roll-up*: A process of combining observations that were recorded under different species codes but would best be treated as the same species. For example, some observers may take note of subspecies, which are then recorded under different codes than the overall species when they should logically be combined.\n",
    "\n",
    "2. *Zero-filling*: adding counts of 0 for all species that were not recorded at an observation, essential for accounting for the fact that observation data is inherently presence-only.\n",
    "\n",
    "We decided to focus our research on only sighting in New York State, which is still a rather large subset of the data. As of right now, we have decided to drop `latitude` and `longitude`. We also dropped irrelevant columns, such as `ENTRY_TECHNIQUE` (a variable indicating method of site localization), `PROJ_PERIOD_ID` (calendar year of end of FeederWatch season), `sub_id` and `obs_id` (indentifiers for checklist or species respectively), `effort_hrs_atleast` (survey time), and `DATA_ENTRY_METHOD` (web/mobile/paper)."
   ]
  },
  {
   "cell_type": "code",
   "execution_count": 14,
   "id": "b59483d3",
   "metadata": {},
   "outputs": [],
   "source": [
    "# importing libraries\n",
    "import pandas as pd\n",
    "import numpy as np\n",
    "import seaborn as sns\n",
    "import matplotlib.pyplot as plt\n",
    "import datetime as dt\n",
    "import scipy.stats as stats"
   ]
  },
  {
   "cell_type": "code",
   "execution_count": 4,
   "id": "c12de8de",
   "metadata": {},
   "outputs": [],
   "source": [
    "# importing sql\n",
    "%load_ext sql\n",
    "\n",
    "%config SqlMagic.autopandas = True\n",
    "%config SqlMagic.feedback = False\n",
    "%config SqlMagic.displaycon = False\n",
    "\n",
    "%sql duckdb:///:memory:"
   ]
  },
  {
   "cell_type": "code",
   "execution_count": 4,
   "id": "fa3ca5c4",
   "metadata": {},
   "outputs": [],
   "source": [
    "# reading in raw provided data\n",
    "csv = pd.read_csv(\"rolled_up_NY_df.csv\")"
   ]
  },
  {
   "cell_type": "code",
   "execution_count": 5,
   "id": "b6435fa4",
   "metadata": {},
   "outputs": [],
   "source": [
    "# making dataframe\n",
    "df = pd.DataFrame(csv)"
   ]
  },
  {
   "cell_type": "code",
   "execution_count": 6,
   "id": "377a4b0c",
   "metadata": {},
   "outputs": [],
   "source": [
    "new_columns = list(map(str.lower, df.columns))\n",
    "df.columns = new_columns"
   ]
  },
  {
   "cell_type": "code",
   "execution_count": 7,
   "id": "e214ea80",
   "metadata": {},
   "outputs": [],
   "source": [
    "# dropping irrelevant columns\n",
    "df.drop(['unnamed: 0', '...1', 'latitude', 'longitude', 'entry_technique', 'proj_period_id', 'reviewed', 'sub_id', 'obs_id',\n",
    "        'effort_hrs_atleast', 'data_entry_method'], axis= 1, inplace= True)"
   ]
  },
  {
   "cell_type": "code",
   "execution_count": 8,
   "id": "f1759bc3",
   "metadata": {},
   "outputs": [],
   "source": [
    "# dropping observations that are not valid\n",
    "df = df[df['valid'] == 1]"
   ]
  },
  {
   "cell_type": "code",
   "execution_count": 9,
   "id": "a8e08d64",
   "metadata": {},
   "outputs": [
    {
     "data": {
      "text/html": [
       "<div>\n",
       "<style scoped>\n",
       "    .dataframe tbody tr th:only-of-type {\n",
       "        vertical-align: middle;\n",
       "    }\n",
       "\n",
       "    .dataframe tbody tr th {\n",
       "        vertical-align: top;\n",
       "    }\n",
       "\n",
       "    .dataframe thead th {\n",
       "        text-align: right;\n",
       "    }\n",
       "</style>\n",
       "<table border=\"1\" class=\"dataframe\">\n",
       "  <thead>\n",
       "    <tr style=\"text-align: right;\">\n",
       "      <th></th>\n",
       "      <th>loc_id</th>\n",
       "      <th>subnational1_code</th>\n",
       "      <th>month</th>\n",
       "      <th>day</th>\n",
       "      <th>year</th>\n",
       "      <th>day1_am</th>\n",
       "      <th>day1_pm</th>\n",
       "      <th>day2_am</th>\n",
       "      <th>day2_pm</th>\n",
       "      <th>snow_dep_atleast</th>\n",
       "      <th>species_code</th>\n",
       "      <th>how_many</th>\n",
       "      <th>plus_code</th>\n",
       "      <th>valid</th>\n",
       "    </tr>\n",
       "  </thead>\n",
       "  <tbody>\n",
       "    <tr>\n",
       "      <th>0</th>\n",
       "      <td>L6731705</td>\n",
       "      <td>US-NY</td>\n",
       "      <td>11</td>\n",
       "      <td>14</td>\n",
       "      <td>2020</td>\n",
       "      <td>1</td>\n",
       "      <td>1</td>\n",
       "      <td>1</td>\n",
       "      <td>1</td>\n",
       "      <td>0.0</td>\n",
       "      <td>blujay</td>\n",
       "      <td>1</td>\n",
       "      <td>NaN</td>\n",
       "      <td>1</td>\n",
       "    </tr>\n",
       "    <tr>\n",
       "      <th>1</th>\n",
       "      <td>L6731705</td>\n",
       "      <td>US-NY</td>\n",
       "      <td>11</td>\n",
       "      <td>14</td>\n",
       "      <td>2020</td>\n",
       "      <td>1</td>\n",
       "      <td>1</td>\n",
       "      <td>1</td>\n",
       "      <td>1</td>\n",
       "      <td>0.0</td>\n",
       "      <td>blujay</td>\n",
       "      <td>0</td>\n",
       "      <td>NaN</td>\n",
       "      <td>1</td>\n",
       "    </tr>\n",
       "    <tr>\n",
       "      <th>2</th>\n",
       "      <td>L6731705</td>\n",
       "      <td>US-NY</td>\n",
       "      <td>11</td>\n",
       "      <td>14</td>\n",
       "      <td>2020</td>\n",
       "      <td>1</td>\n",
       "      <td>1</td>\n",
       "      <td>1</td>\n",
       "      <td>1</td>\n",
       "      <td>0.0</td>\n",
       "      <td>blujay</td>\n",
       "      <td>0</td>\n",
       "      <td>NaN</td>\n",
       "      <td>1</td>\n",
       "    </tr>\n",
       "    <tr>\n",
       "      <th>3</th>\n",
       "      <td>L6731705</td>\n",
       "      <td>US-NY</td>\n",
       "      <td>11</td>\n",
       "      <td>14</td>\n",
       "      <td>2020</td>\n",
       "      <td>1</td>\n",
       "      <td>1</td>\n",
       "      <td>1</td>\n",
       "      <td>1</td>\n",
       "      <td>0.0</td>\n",
       "      <td>blujay</td>\n",
       "      <td>0</td>\n",
       "      <td>NaN</td>\n",
       "      <td>1</td>\n",
       "    </tr>\n",
       "    <tr>\n",
       "      <th>4</th>\n",
       "      <td>L6731705</td>\n",
       "      <td>US-NY</td>\n",
       "      <td>11</td>\n",
       "      <td>14</td>\n",
       "      <td>2020</td>\n",
       "      <td>1</td>\n",
       "      <td>1</td>\n",
       "      <td>1</td>\n",
       "      <td>1</td>\n",
       "      <td>0.0</td>\n",
       "      <td>blujay</td>\n",
       "      <td>0</td>\n",
       "      <td>NaN</td>\n",
       "      <td>1</td>\n",
       "    </tr>\n",
       "  </tbody>\n",
       "</table>\n",
       "</div>"
      ],
      "text/plain": [
       "     loc_id subnational1_code  month  day  year  day1_am  day1_pm  day2_am  \\\n",
       "0  L6731705             US-NY     11   14  2020        1        1        1   \n",
       "1  L6731705             US-NY     11   14  2020        1        1        1   \n",
       "2  L6731705             US-NY     11   14  2020        1        1        1   \n",
       "3  L6731705             US-NY     11   14  2020        1        1        1   \n",
       "4  L6731705             US-NY     11   14  2020        1        1        1   \n",
       "\n",
       "   day2_pm  snow_dep_atleast species_code  how_many  plus_code  valid  \n",
       "0        1               0.0       blujay         1        NaN      1  \n",
       "1        1               0.0       blujay         0        NaN      1  \n",
       "2        1               0.0       blujay         0        NaN      1  \n",
       "3        1               0.0       blujay         0        NaN      1  \n",
       "4        1               0.0       blujay         0        NaN      1  "
      ]
     },
     "execution_count": 9,
     "metadata": {},
     "output_type": "execute_result"
    }
   ],
   "source": [
    "df.head()"
   ]
  },
  {
   "cell_type": "markdown",
   "id": "167a795b",
   "metadata": {},
   "source": [
    "We also created new dataframes to only specify the top species for our data exploration.\n",
    "\n",
    "`species_limited_df` is a slice of `df` holding the data only for the top (most frequent) species.\n",
    "\n",
    "In `snow_df`, we have created bins (`snow_category`) to categorize the snowfall for all sightings where snow depth is not null.\n",
    "\n",
    "The `species_limited_time` dataframe is a manipulated version of `species_limited_df` with a datetime object, allowing for time series calculations and comparisons.\n",
    "\n",
    "The `df_timeofday` dataframe narrows the data down to only entries where one of the four sighting periods of the two-day observation period occur. In otherwords, only the entries such that `day1_am` + `day1_pm` + `day2_am` + `day2_pm` = 1, and also limits to the top 25 species. This allows us to plot differences in observation counts based on time of day (morning vs afternoon) in our exploratory section. "
   ]
  },
  {
   "cell_type": "code",
   "execution_count": 10,
   "id": "f522955d",
   "metadata": {},
   "outputs": [],
   "source": [
    "# making a list of the 10 most frequently observed species\n",
    "frequent_species = df['species_code'].value_counts()[:1].index\n",
    "\n",
    "# creating new dataframe limited to just the most frequent species observations\n",
    "species_limited_df = df[df['species_code'].isin(frequent_species)]\n",
    "\n",
    "species_limited_df.to_csv(\"bluejay_df.csv\")"
   ]
  },
  {
   "cell_type": "markdown",
   "id": "5a43e5ba",
   "metadata": {},
   "source": [
    "By convention, bird species are stored as 6-letter codes. However, this makes readability and interpretability more difficult later on. To remedy this, we can do an inner join with a taxonomy table provided by FeederWatch so we can add a column with the species full common name."
   ]
  },
  {
   "cell_type": "code",
   "execution_count": 46,
   "id": "962888ff",
   "metadata": {},
   "outputs": [
    {
     "name": "stdout",
     "output_type": "stream",
     "text": [
      "Returning data to local variable species_limited_df\n"
     ]
    }
   ],
   "source": [
    "# joining common names\n",
    "species_translate_df = pd.DataFrame(pd.read_csv(\"PFW-species-translation-table.csv\"))\n",
    "%sql species_limited_df << SELECT loc_id, subnational1_code, month, day, year, species_limited_df.species_code, how_many, valid, day1_am, day1_pm, day2_am, day2_pm, snow_dep_atleast, american_english_name AS species_name FROM species_limited_df INNER JOIN species_translate_df ON species_limited_df.species_code = species_translate_df.species_code;"
   ]
  },
  {
   "cell_type": "code",
   "execution_count": 47,
   "id": "b5206a14",
   "metadata": {},
   "outputs": [
    {
     "data": {
      "text/html": [
       "<div>\n",
       "<style scoped>\n",
       "    .dataframe tbody tr th:only-of-type {\n",
       "        vertical-align: middle;\n",
       "    }\n",
       "\n",
       "    .dataframe tbody tr th {\n",
       "        vertical-align: top;\n",
       "    }\n",
       "\n",
       "    .dataframe thead th {\n",
       "        text-align: right;\n",
       "    }\n",
       "</style>\n",
       "<table border=\"1\" class=\"dataframe\">\n",
       "  <thead>\n",
       "    <tr style=\"text-align: right;\">\n",
       "      <th></th>\n",
       "      <th>loc_id</th>\n",
       "      <th>subnational1_code</th>\n",
       "      <th>month</th>\n",
       "      <th>day</th>\n",
       "      <th>year</th>\n",
       "      <th>species_code</th>\n",
       "      <th>how_many</th>\n",
       "      <th>valid</th>\n",
       "      <th>day1_am</th>\n",
       "      <th>day1_pm</th>\n",
       "      <th>day2_am</th>\n",
       "      <th>day2_pm</th>\n",
       "      <th>snow_dep_atleast</th>\n",
       "      <th>species_name</th>\n",
       "    </tr>\n",
       "  </thead>\n",
       "  <tbody>\n",
       "    <tr>\n",
       "      <th>0</th>\n",
       "      <td>L6731705</td>\n",
       "      <td>US-NY</td>\n",
       "      <td>11</td>\n",
       "      <td>14</td>\n",
       "      <td>2020</td>\n",
       "      <td>blujay</td>\n",
       "      <td>1</td>\n",
       "      <td>1</td>\n",
       "      <td>1</td>\n",
       "      <td>1</td>\n",
       "      <td>1</td>\n",
       "      <td>1</td>\n",
       "      <td>0.000</td>\n",
       "      <td>Blue Jay</td>\n",
       "    </tr>\n",
       "    <tr>\n",
       "      <th>1</th>\n",
       "      <td>L6731705</td>\n",
       "      <td>US-NY</td>\n",
       "      <td>11</td>\n",
       "      <td>14</td>\n",
       "      <td>2020</td>\n",
       "      <td>blujay</td>\n",
       "      <td>0</td>\n",
       "      <td>1</td>\n",
       "      <td>1</td>\n",
       "      <td>1</td>\n",
       "      <td>1</td>\n",
       "      <td>1</td>\n",
       "      <td>0.000</td>\n",
       "      <td>Blue Jay</td>\n",
       "    </tr>\n",
       "    <tr>\n",
       "      <th>2</th>\n",
       "      <td>L6731705</td>\n",
       "      <td>US-NY</td>\n",
       "      <td>11</td>\n",
       "      <td>14</td>\n",
       "      <td>2020</td>\n",
       "      <td>blujay</td>\n",
       "      <td>0</td>\n",
       "      <td>1</td>\n",
       "      <td>1</td>\n",
       "      <td>1</td>\n",
       "      <td>1</td>\n",
       "      <td>1</td>\n",
       "      <td>0.000</td>\n",
       "      <td>Blue Jay</td>\n",
       "    </tr>\n",
       "    <tr>\n",
       "      <th>3</th>\n",
       "      <td>L6731705</td>\n",
       "      <td>US-NY</td>\n",
       "      <td>11</td>\n",
       "      <td>14</td>\n",
       "      <td>2020</td>\n",
       "      <td>blujay</td>\n",
       "      <td>0</td>\n",
       "      <td>1</td>\n",
       "      <td>1</td>\n",
       "      <td>1</td>\n",
       "      <td>1</td>\n",
       "      <td>1</td>\n",
       "      <td>0.000</td>\n",
       "      <td>Blue Jay</td>\n",
       "    </tr>\n",
       "    <tr>\n",
       "      <th>4</th>\n",
       "      <td>L6731705</td>\n",
       "      <td>US-NY</td>\n",
       "      <td>11</td>\n",
       "      <td>14</td>\n",
       "      <td>2020</td>\n",
       "      <td>blujay</td>\n",
       "      <td>0</td>\n",
       "      <td>1</td>\n",
       "      <td>1</td>\n",
       "      <td>1</td>\n",
       "      <td>1</td>\n",
       "      <td>1</td>\n",
       "      <td>0.000</td>\n",
       "      <td>Blue Jay</td>\n",
       "    </tr>\n",
       "    <tr>\n",
       "      <th>...</th>\n",
       "      <td>...</td>\n",
       "      <td>...</td>\n",
       "      <td>...</td>\n",
       "      <td>...</td>\n",
       "      <td>...</td>\n",
       "      <td>...</td>\n",
       "      <td>...</td>\n",
       "      <td>...</td>\n",
       "      <td>...</td>\n",
       "      <td>...</td>\n",
       "      <td>...</td>\n",
       "      <td>...</td>\n",
       "      <td>...</td>\n",
       "      <td>...</td>\n",
       "    </tr>\n",
       "    <tr>\n",
       "      <th>246003</th>\n",
       "      <td>L2404002</td>\n",
       "      <td>US-NY</td>\n",
       "      <td>2</td>\n",
       "      <td>10</td>\n",
       "      <td>2021</td>\n",
       "      <td>blujay</td>\n",
       "      <td>0</td>\n",
       "      <td>1</td>\n",
       "      <td>0</td>\n",
       "      <td>0</td>\n",
       "      <td>1</td>\n",
       "      <td>0</td>\n",
       "      <td>0.001</td>\n",
       "      <td>Blue Jay</td>\n",
       "    </tr>\n",
       "    <tr>\n",
       "      <th>246004</th>\n",
       "      <td>L2404002</td>\n",
       "      <td>US-NY</td>\n",
       "      <td>2</td>\n",
       "      <td>10</td>\n",
       "      <td>2021</td>\n",
       "      <td>blujay</td>\n",
       "      <td>0</td>\n",
       "      <td>1</td>\n",
       "      <td>0</td>\n",
       "      <td>0</td>\n",
       "      <td>1</td>\n",
       "      <td>0</td>\n",
       "      <td>0.001</td>\n",
       "      <td>Blue Jay</td>\n",
       "    </tr>\n",
       "    <tr>\n",
       "      <th>246005</th>\n",
       "      <td>L2404002</td>\n",
       "      <td>US-NY</td>\n",
       "      <td>2</td>\n",
       "      <td>10</td>\n",
       "      <td>2021</td>\n",
       "      <td>blujay</td>\n",
       "      <td>0</td>\n",
       "      <td>1</td>\n",
       "      <td>0</td>\n",
       "      <td>0</td>\n",
       "      <td>1</td>\n",
       "      <td>0</td>\n",
       "      <td>0.001</td>\n",
       "      <td>Blue Jay</td>\n",
       "    </tr>\n",
       "    <tr>\n",
       "      <th>246006</th>\n",
       "      <td>L2404002</td>\n",
       "      <td>US-NY</td>\n",
       "      <td>2</td>\n",
       "      <td>10</td>\n",
       "      <td>2021</td>\n",
       "      <td>blujay</td>\n",
       "      <td>0</td>\n",
       "      <td>1</td>\n",
       "      <td>0</td>\n",
       "      <td>0</td>\n",
       "      <td>1</td>\n",
       "      <td>0</td>\n",
       "      <td>0.001</td>\n",
       "      <td>Blue Jay</td>\n",
       "    </tr>\n",
       "    <tr>\n",
       "      <th>246007</th>\n",
       "      <td>L2404002</td>\n",
       "      <td>US-NY</td>\n",
       "      <td>2</td>\n",
       "      <td>10</td>\n",
       "      <td>2021</td>\n",
       "      <td>blujay</td>\n",
       "      <td>0</td>\n",
       "      <td>1</td>\n",
       "      <td>0</td>\n",
       "      <td>0</td>\n",
       "      <td>1</td>\n",
       "      <td>0</td>\n",
       "      <td>0.001</td>\n",
       "      <td>Blue Jay</td>\n",
       "    </tr>\n",
       "  </tbody>\n",
       "</table>\n",
       "<p>246008 rows × 14 columns</p>\n",
       "</div>"
      ],
      "text/plain": [
       "          loc_id subnational1_code  month  day  year species_code  how_many  \\\n",
       "0       L6731705             US-NY     11   14  2020       blujay         1   \n",
       "1       L6731705             US-NY     11   14  2020       blujay         0   \n",
       "2       L6731705             US-NY     11   14  2020       blujay         0   \n",
       "3       L6731705             US-NY     11   14  2020       blujay         0   \n",
       "4       L6731705             US-NY     11   14  2020       blujay         0   \n",
       "...          ...               ...    ...  ...   ...          ...       ...   \n",
       "246003  L2404002             US-NY      2   10  2021       blujay         0   \n",
       "246004  L2404002             US-NY      2   10  2021       blujay         0   \n",
       "246005  L2404002             US-NY      2   10  2021       blujay         0   \n",
       "246006  L2404002             US-NY      2   10  2021       blujay         0   \n",
       "246007  L2404002             US-NY      2   10  2021       blujay         0   \n",
       "\n",
       "        valid  day1_am  day1_pm  day2_am  day2_pm  snow_dep_atleast  \\\n",
       "0           1        1        1        1        1             0.000   \n",
       "1           1        1        1        1        1             0.000   \n",
       "2           1        1        1        1        1             0.000   \n",
       "3           1        1        1        1        1             0.000   \n",
       "4           1        1        1        1        1             0.000   \n",
       "...       ...      ...      ...      ...      ...               ...   \n",
       "246003      1        0        0        1        0             0.001   \n",
       "246004      1        0        0        1        0             0.001   \n",
       "246005      1        0        0        1        0             0.001   \n",
       "246006      1        0        0        1        0             0.001   \n",
       "246007      1        0        0        1        0             0.001   \n",
       "\n",
       "       species_name  \n",
       "0          Blue Jay  \n",
       "1          Blue Jay  \n",
       "2          Blue Jay  \n",
       "3          Blue Jay  \n",
       "4          Blue Jay  \n",
       "...             ...  \n",
       "246003     Blue Jay  \n",
       "246004     Blue Jay  \n",
       "246005     Blue Jay  \n",
       "246006     Blue Jay  \n",
       "246007     Blue Jay  \n",
       "\n",
       "[246008 rows x 14 columns]"
      ]
     },
     "execution_count": 47,
     "metadata": {},
     "output_type": "execute_result"
    }
   ],
   "source": [
    "species_limited_df"
   ]
  },
  {
   "cell_type": "code",
   "execution_count": 48,
   "id": "7d9c51a6",
   "metadata": {},
   "outputs": [
    {
     "name": "stderr",
     "output_type": "stream",
     "text": [
      "/var/folders/n9/xxpjsdt533588521bftbd6qm0000gn/T/ipykernel_45930/3836606446.py:5: SettingWithCopyWarning: \n",
      "A value is trying to be set on a copy of a slice from a DataFrame.\n",
      "Try using .loc[row_indexer,col_indexer] = value instead\n",
      "\n",
      "See the caveats in the documentation: https://pandas.pydata.org/pandas-docs/stable/user_guide/indexing.html#returning-a-view-versus-a-copy\n",
      "  snow_df['snow_category'] = 'No Snow'\n"
     ]
    }
   ],
   "source": [
    "# dropping rows where snow depth was null\n",
    "snow_df = species_limited_df.dropna(subset=['snow_dep_atleast'])\n",
    "\n",
    "# creating new category with string corresponding to each value in snow depth (for binning in the line plots)\n",
    "snow_df['snow_category'] = 'No Snow'\n",
    "snow_df.loc[snow_df['snow_dep_atleast'] == 0.001, 'snow_category'] = '< 5 cm'\n",
    "snow_df.loc[snow_df['snow_dep_atleast'] == 5.000, 'snow_category'] = '5 to 15 cm'\n",
    "snow_df.loc[snow_df['snow_dep_atleast'] == 15.001, 'snow_category'] = '> 15 cm'"
   ]
  },
  {
   "cell_type": "code",
   "execution_count": 49,
   "id": "604cdadf",
   "metadata": {},
   "outputs": [
    {
     "data": {
      "text/html": [
       "<div>\n",
       "<style scoped>\n",
       "    .dataframe tbody tr th:only-of-type {\n",
       "        vertical-align: middle;\n",
       "    }\n",
       "\n",
       "    .dataframe tbody tr th {\n",
       "        vertical-align: top;\n",
       "    }\n",
       "\n",
       "    .dataframe thead th {\n",
       "        text-align: right;\n",
       "    }\n",
       "</style>\n",
       "<table border=\"1\" class=\"dataframe\">\n",
       "  <thead>\n",
       "    <tr style=\"text-align: right;\">\n",
       "      <th></th>\n",
       "      <th></th>\n",
       "      <th>how_many</th>\n",
       "      <th>snow_dep_atleast</th>\n",
       "    </tr>\n",
       "    <tr>\n",
       "      <th>species_name</th>\n",
       "      <th>date_time</th>\n",
       "      <th></th>\n",
       "      <th></th>\n",
       "    </tr>\n",
       "  </thead>\n",
       "  <tbody>\n",
       "    <tr>\n",
       "      <th rowspan=\"5\" valign=\"top\">Blue Jay</th>\n",
       "      <th>2020-11-13</th>\n",
       "      <td>0.285714</td>\n",
       "      <td>0.000000</td>\n",
       "    </tr>\n",
       "    <tr>\n",
       "      <th>2020-11-14</th>\n",
       "      <td>0.292822</td>\n",
       "      <td>0.003103</td>\n",
       "    </tr>\n",
       "    <tr>\n",
       "      <th>2020-11-15</th>\n",
       "      <td>0.269316</td>\n",
       "      <td>0.024390</td>\n",
       "    </tr>\n",
       "    <tr>\n",
       "      <th>2020-11-16</th>\n",
       "      <td>0.264320</td>\n",
       "      <td>0.055487</td>\n",
       "    </tr>\n",
       "    <tr>\n",
       "      <th>2020-11-17</th>\n",
       "      <td>0.322034</td>\n",
       "      <td>0.203332</td>\n",
       "    </tr>\n",
       "  </tbody>\n",
       "</table>\n",
       "</div>"
      ],
      "text/plain": [
       "                         how_many  snow_dep_atleast\n",
       "species_name date_time                             \n",
       "Blue Jay     2020-11-13  0.285714          0.000000\n",
       "             2020-11-14  0.292822          0.003103\n",
       "             2020-11-15  0.269316          0.024390\n",
       "             2020-11-16  0.264320          0.055487\n",
       "             2020-11-17  0.322034          0.203332"
      ]
     },
     "execution_count": 49,
     "metadata": {},
     "output_type": "execute_result"
    }
   ],
   "source": [
    "species_limited_time = species_limited_df\n",
    "\n",
    "# create a column that puts month, date, year in one string\n",
    "species_limited_time['datestring'] = species_limited_time['month'].astype(str) + \"/\" + species_limited_time['day'].astype(str) + \"/\" + species_limited_time['year'].astype(str)\n",
    "\n",
    "#turn datestring into datetime and drop datestring\n",
    "species_limited_time['date_time'] = pd.to_datetime(species_limited_time['datestring'], format='%m/%d/%Y')\n",
    "species_limited_time.drop(columns=\"datestring\")\n",
    "\n",
    "#grouped by date_time (datetime object)\n",
    "species_limited_time = species_limited_time.groupby([\"species_name\", \"date_time\"]).mean()[['how_many','snow_dep_atleast']]\n",
    "species_limited_time.head()"
   ]
  },
  {
   "cell_type": "code",
   "execution_count": 50,
   "id": "cf9a0efc",
   "metadata": {},
   "outputs": [
    {
     "name": "stderr",
     "output_type": "stream",
     "text": [
      "/var/folders/n9/xxpjsdt533588521bftbd6qm0000gn/T/ipykernel_45930/3062357538.py:9: SettingWithCopyWarning: \n",
      "A value is trying to be set on a copy of a slice from a DataFrame.\n",
      "Try using .loc[row_indexer,col_indexer] = value instead\n",
      "\n",
      "See the caveats in the documentation: https://pandas.pydata.org/pandas-docs/stable/user_guide/indexing.html#returning-a-view-versus-a-copy\n",
      "  df_timeofday['unique_time'] = 'day1_am'\n"
     ]
    }
   ],
   "source": [
    "#duplicating df\n",
    "df_timeofday = df\n",
    "\n",
    "#only using entries with unique time sightings (they only recorded sightings at one of the 4 time periods as opposed\n",
    "#to multiple sightings aggregated)\n",
    "df_timeofday = df_timeofday[df_timeofday['day1_am'] + df_timeofday['day1_pm'] + df_timeofday['day2_am'] + df_timeofday['day2_pm'] == 1]\n",
    "\n",
    "# creating new category with string corresponding to unique sighting day1_am, day1_pm, day2_am, day2_pm\n",
    "df_timeofday['unique_time'] = 'day1_am'\n",
    "df_timeofday.loc[df_timeofday['day1_pm'] == 1, 'unique_time'] = 'day1_pm'\n",
    "df_timeofday.loc[df_timeofday['day2_am'] == 1, 'unique_time'] = 'day2_am'\n",
    "df_timeofday.loc[df_timeofday['day2_pm'] == 1, 'unique_time'] = 'day2_pm'\n",
    "\n",
    "#limit to only top species \n",
    "df_timeofday_specieslimited = df_timeofday[df_timeofday['species_code'].isin(frequent_species)]\n"
   ]
  },
  {
   "cell_type": "markdown",
   "id": "d52ec41f",
   "metadata": {},
   "source": [
    "We also created a joined dataframe `join_df` that combines `species_limited_df` and `sites_df` using an `INNER JOIN` on `loc_id`, which provides us with information about the environment in which the observation entry took place. By doing this, we lose about half of our `species_limited_df` data entries because their location is not described in `sites_df`. "
   ]
  },
  {
   "cell_type": "code",
   "execution_count": 10,
   "id": "8f7c694a",
   "metadata": {},
   "outputs": [
    {
     "data": {
      "text/html": [
       "<div>\n",
       "<style scoped>\n",
       "    .dataframe tbody tr th:only-of-type {\n",
       "        vertical-align: middle;\n",
       "    }\n",
       "\n",
       "    .dataframe tbody tr th {\n",
       "        vertical-align: top;\n",
       "    }\n",
       "\n",
       "    .dataframe thead th {\n",
       "        text-align: right;\n",
       "    }\n",
       "</style>\n",
       "<table border=\"1\" class=\"dataframe\">\n",
       "  <thead>\n",
       "    <tr style=\"text-align: right;\">\n",
       "      <th></th>\n",
       "      <th>loc_id</th>\n",
       "      <th>proj_period_id</th>\n",
       "      <th>yard_type_pavement</th>\n",
       "      <th>yard_type_garden</th>\n",
       "      <th>yard_type_landsca</th>\n",
       "      <th>yard_type_woods</th>\n",
       "      <th>yard_type_desert</th>\n",
       "      <th>hab_dcid_woods</th>\n",
       "      <th>hab_evgr_woods</th>\n",
       "      <th>hab_mixed_woods</th>\n",
       "      <th>...</th>\n",
       "      <th>brsh_piles_atleast</th>\n",
       "      <th>water_srcs_atleast</th>\n",
       "      <th>bird_baths_atleast</th>\n",
       "      <th>nearby_feeders</th>\n",
       "      <th>squirrels</th>\n",
       "      <th>cats</th>\n",
       "      <th>dogs</th>\n",
       "      <th>humans</th>\n",
       "      <th>housing_density</th>\n",
       "      <th>population_atleast</th>\n",
       "    </tr>\n",
       "  </thead>\n",
       "  <tbody>\n",
       "    <tr>\n",
       "      <th>0</th>\n",
       "      <td>L100016</td>\n",
       "      <td>PFW_2002</td>\n",
       "      <td>0.0</td>\n",
       "      <td>0.0</td>\n",
       "      <td>1.0</td>\n",
       "      <td>0.0</td>\n",
       "      <td>0.0</td>\n",
       "      <td>1.0</td>\n",
       "      <td>NaN</td>\n",
       "      <td>1.0</td>\n",
       "      <td>...</td>\n",
       "      <td>0.0</td>\n",
       "      <td>1.0</td>\n",
       "      <td>0.0</td>\n",
       "      <td>0.0</td>\n",
       "      <td>0.0</td>\n",
       "      <td>0.0</td>\n",
       "      <td>0.0</td>\n",
       "      <td>0.0</td>\n",
       "      <td>2.0</td>\n",
       "      <td>1.0</td>\n",
       "    </tr>\n",
       "    <tr>\n",
       "      <th>1</th>\n",
       "      <td>L100016</td>\n",
       "      <td>PFW_2003</td>\n",
       "      <td>0.0</td>\n",
       "      <td>0.0</td>\n",
       "      <td>1.0</td>\n",
       "      <td>0.0</td>\n",
       "      <td>0.0</td>\n",
       "      <td>1.0</td>\n",
       "      <td>NaN</td>\n",
       "      <td>1.0</td>\n",
       "      <td>...</td>\n",
       "      <td>0.0</td>\n",
       "      <td>1.0</td>\n",
       "      <td>0.0</td>\n",
       "      <td>1.0</td>\n",
       "      <td>0.0</td>\n",
       "      <td>1.0</td>\n",
       "      <td>0.0</td>\n",
       "      <td>0.0</td>\n",
       "      <td>2.0</td>\n",
       "      <td>1.0</td>\n",
       "    </tr>\n",
       "    <tr>\n",
       "      <th>2</th>\n",
       "      <td>L100016</td>\n",
       "      <td>PFW_2004</td>\n",
       "      <td>0.0</td>\n",
       "      <td>0.0</td>\n",
       "      <td>1.0</td>\n",
       "      <td>0.0</td>\n",
       "      <td>0.0</td>\n",
       "      <td>1.0</td>\n",
       "      <td>NaN</td>\n",
       "      <td>1.0</td>\n",
       "      <td>...</td>\n",
       "      <td>0.0</td>\n",
       "      <td>1.0</td>\n",
       "      <td>0.0</td>\n",
       "      <td>1.0</td>\n",
       "      <td>0.0</td>\n",
       "      <td>1.0</td>\n",
       "      <td>0.0</td>\n",
       "      <td>0.0</td>\n",
       "      <td>2.0</td>\n",
       "      <td>1.0</td>\n",
       "    </tr>\n",
       "    <tr>\n",
       "      <th>3</th>\n",
       "      <td>L100016</td>\n",
       "      <td>PFW_2005</td>\n",
       "      <td>0.0</td>\n",
       "      <td>0.0</td>\n",
       "      <td>1.0</td>\n",
       "      <td>0.0</td>\n",
       "      <td>0.0</td>\n",
       "      <td>1.0</td>\n",
       "      <td>NaN</td>\n",
       "      <td>1.0</td>\n",
       "      <td>...</td>\n",
       "      <td>0.0</td>\n",
       "      <td>1.0</td>\n",
       "      <td>0.0</td>\n",
       "      <td>1.0</td>\n",
       "      <td>0.0</td>\n",
       "      <td>1.0</td>\n",
       "      <td>0.0</td>\n",
       "      <td>0.0</td>\n",
       "      <td>2.0</td>\n",
       "      <td>1.0</td>\n",
       "    </tr>\n",
       "    <tr>\n",
       "      <th>4</th>\n",
       "      <td>L100016</td>\n",
       "      <td>PFW_2006</td>\n",
       "      <td>0.0</td>\n",
       "      <td>0.0</td>\n",
       "      <td>1.0</td>\n",
       "      <td>0.0</td>\n",
       "      <td>0.0</td>\n",
       "      <td>1.0</td>\n",
       "      <td>0.0</td>\n",
       "      <td>1.0</td>\n",
       "      <td>...</td>\n",
       "      <td>0.0</td>\n",
       "      <td>1.0</td>\n",
       "      <td>0.0</td>\n",
       "      <td>0.0</td>\n",
       "      <td>0.0</td>\n",
       "      <td>1.0</td>\n",
       "      <td>0.0</td>\n",
       "      <td>0.0</td>\n",
       "      <td>2.0</td>\n",
       "      <td>1.0</td>\n",
       "    </tr>\n",
       "    <tr>\n",
       "      <th>...</th>\n",
       "      <td>...</td>\n",
       "      <td>...</td>\n",
       "      <td>...</td>\n",
       "      <td>...</td>\n",
       "      <td>...</td>\n",
       "      <td>...</td>\n",
       "      <td>...</td>\n",
       "      <td>...</td>\n",
       "      <td>...</td>\n",
       "      <td>...</td>\n",
       "      <td>...</td>\n",
       "      <td>...</td>\n",
       "      <td>...</td>\n",
       "      <td>...</td>\n",
       "      <td>...</td>\n",
       "      <td>...</td>\n",
       "      <td>...</td>\n",
       "      <td>...</td>\n",
       "      <td>...</td>\n",
       "      <td>...</td>\n",
       "      <td>...</td>\n",
       "    </tr>\n",
       "    <tr>\n",
       "      <th>254350</th>\n",
       "      <td>L999923</td>\n",
       "      <td>PFW_2010</td>\n",
       "      <td>0.0</td>\n",
       "      <td>0.0</td>\n",
       "      <td>0.0</td>\n",
       "      <td>1.0</td>\n",
       "      <td>0.0</td>\n",
       "      <td>1.0</td>\n",
       "      <td>0.0</td>\n",
       "      <td>0.0</td>\n",
       "      <td>...</td>\n",
       "      <td>1.0</td>\n",
       "      <td>0.0</td>\n",
       "      <td>0.0</td>\n",
       "      <td>0.0</td>\n",
       "      <td>0.0</td>\n",
       "      <td>0.0</td>\n",
       "      <td>0.0</td>\n",
       "      <td>0.0</td>\n",
       "      <td>1.0</td>\n",
       "      <td>1.0</td>\n",
       "    </tr>\n",
       "    <tr>\n",
       "      <th>254351</th>\n",
       "      <td>L99994</td>\n",
       "      <td>PFW_2002</td>\n",
       "      <td>0.0</td>\n",
       "      <td>0.0</td>\n",
       "      <td>1.0</td>\n",
       "      <td>0.0</td>\n",
       "      <td>0.0</td>\n",
       "      <td>NaN</td>\n",
       "      <td>NaN</td>\n",
       "      <td>NaN</td>\n",
       "      <td>...</td>\n",
       "      <td>1.0</td>\n",
       "      <td>0.0</td>\n",
       "      <td>1.0</td>\n",
       "      <td>1.0</td>\n",
       "      <td>1.0</td>\n",
       "      <td>1.0</td>\n",
       "      <td>1.0</td>\n",
       "      <td>1.0</td>\n",
       "      <td>3.0</td>\n",
       "      <td>25001.0</td>\n",
       "    </tr>\n",
       "    <tr>\n",
       "      <th>254352</th>\n",
       "      <td>L99996</td>\n",
       "      <td>PFW_2002</td>\n",
       "      <td>0.0</td>\n",
       "      <td>0.0</td>\n",
       "      <td>1.0</td>\n",
       "      <td>1.0</td>\n",
       "      <td>0.0</td>\n",
       "      <td>1.0</td>\n",
       "      <td>NaN</td>\n",
       "      <td>1.0</td>\n",
       "      <td>...</td>\n",
       "      <td>1.0</td>\n",
       "      <td>1.0</td>\n",
       "      <td>1.0</td>\n",
       "      <td>0.0</td>\n",
       "      <td>1.0</td>\n",
       "      <td>1.0</td>\n",
       "      <td>1.0</td>\n",
       "      <td>1.0</td>\n",
       "      <td>2.0</td>\n",
       "      <td>5001.0</td>\n",
       "    </tr>\n",
       "    <tr>\n",
       "      <th>254353</th>\n",
       "      <td>L9999665</td>\n",
       "      <td>PFW_2020</td>\n",
       "      <td>0.0</td>\n",
       "      <td>0.0</td>\n",
       "      <td>1.0</td>\n",
       "      <td>1.0</td>\n",
       "      <td>0.0</td>\n",
       "      <td>0.0</td>\n",
       "      <td>0.0</td>\n",
       "      <td>1.0</td>\n",
       "      <td>...</td>\n",
       "      <td>0.0</td>\n",
       "      <td>0.0</td>\n",
       "      <td>1.0</td>\n",
       "      <td>1.0</td>\n",
       "      <td>1.0</td>\n",
       "      <td>0.0</td>\n",
       "      <td>0.0</td>\n",
       "      <td>1.0</td>\n",
       "      <td>3.0</td>\n",
       "      <td>100001.0</td>\n",
       "    </tr>\n",
       "    <tr>\n",
       "      <th>254354</th>\n",
       "      <td>L99999</td>\n",
       "      <td>PFW_2002</td>\n",
       "      <td>0.0</td>\n",
       "      <td>0.0</td>\n",
       "      <td>1.0</td>\n",
       "      <td>1.0</td>\n",
       "      <td>0.0</td>\n",
       "      <td>NaN</td>\n",
       "      <td>1.0</td>\n",
       "      <td>NaN</td>\n",
       "      <td>...</td>\n",
       "      <td>0.0</td>\n",
       "      <td>1.0</td>\n",
       "      <td>1.0</td>\n",
       "      <td>1.0</td>\n",
       "      <td>1.0</td>\n",
       "      <td>0.0</td>\n",
       "      <td>1.0</td>\n",
       "      <td>1.0</td>\n",
       "      <td>2.0</td>\n",
       "      <td>100001.0</td>\n",
       "    </tr>\n",
       "  </tbody>\n",
       "</table>\n",
       "<p>254355 rows × 31 columns</p>\n",
       "</div>"
      ],
      "text/plain": [
       "          loc_id proj_period_id  yard_type_pavement  yard_type_garden  \\\n",
       "0        L100016       PFW_2002                 0.0               0.0   \n",
       "1        L100016       PFW_2003                 0.0               0.0   \n",
       "2        L100016       PFW_2004                 0.0               0.0   \n",
       "3        L100016       PFW_2005                 0.0               0.0   \n",
       "4        L100016       PFW_2006                 0.0               0.0   \n",
       "...          ...            ...                 ...               ...   \n",
       "254350   L999923       PFW_2010                 0.0               0.0   \n",
       "254351    L99994       PFW_2002                 0.0               0.0   \n",
       "254352    L99996       PFW_2002                 0.0               0.0   \n",
       "254353  L9999665       PFW_2020                 0.0               0.0   \n",
       "254354    L99999       PFW_2002                 0.0               0.0   \n",
       "\n",
       "        yard_type_landsca  yard_type_woods  yard_type_desert  hab_dcid_woods  \\\n",
       "0                     1.0              0.0               0.0             1.0   \n",
       "1                     1.0              0.0               0.0             1.0   \n",
       "2                     1.0              0.0               0.0             1.0   \n",
       "3                     1.0              0.0               0.0             1.0   \n",
       "4                     1.0              0.0               0.0             1.0   \n",
       "...                   ...              ...               ...             ...   \n",
       "254350                0.0              1.0               0.0             1.0   \n",
       "254351                1.0              0.0               0.0             NaN   \n",
       "254352                1.0              1.0               0.0             1.0   \n",
       "254353                1.0              1.0               0.0             0.0   \n",
       "254354                1.0              1.0               0.0             NaN   \n",
       "\n",
       "        hab_evgr_woods  hab_mixed_woods  ...  brsh_piles_atleast  \\\n",
       "0                  NaN              1.0  ...                 0.0   \n",
       "1                  NaN              1.0  ...                 0.0   \n",
       "2                  NaN              1.0  ...                 0.0   \n",
       "3                  NaN              1.0  ...                 0.0   \n",
       "4                  0.0              1.0  ...                 0.0   \n",
       "...                ...              ...  ...                 ...   \n",
       "254350             0.0              0.0  ...                 1.0   \n",
       "254351             NaN              NaN  ...                 1.0   \n",
       "254352             NaN              1.0  ...                 1.0   \n",
       "254353             0.0              1.0  ...                 0.0   \n",
       "254354             1.0              NaN  ...                 0.0   \n",
       "\n",
       "        water_srcs_atleast  bird_baths_atleast  nearby_feeders  squirrels  \\\n",
       "0                      1.0                 0.0             0.0        0.0   \n",
       "1                      1.0                 0.0             1.0        0.0   \n",
       "2                      1.0                 0.0             1.0        0.0   \n",
       "3                      1.0                 0.0             1.0        0.0   \n",
       "4                      1.0                 0.0             0.0        0.0   \n",
       "...                    ...                 ...             ...        ...   \n",
       "254350                 0.0                 0.0             0.0        0.0   \n",
       "254351                 0.0                 1.0             1.0        1.0   \n",
       "254352                 1.0                 1.0             0.0        1.0   \n",
       "254353                 0.0                 1.0             1.0        1.0   \n",
       "254354                 1.0                 1.0             1.0        1.0   \n",
       "\n",
       "        cats  dogs  humans  housing_density  population_atleast  \n",
       "0        0.0   0.0     0.0              2.0                 1.0  \n",
       "1        1.0   0.0     0.0              2.0                 1.0  \n",
       "2        1.0   0.0     0.0              2.0                 1.0  \n",
       "3        1.0   0.0     0.0              2.0                 1.0  \n",
       "4        1.0   0.0     0.0              2.0                 1.0  \n",
       "...      ...   ...     ...              ...                 ...  \n",
       "254350   0.0   0.0     0.0              1.0                 1.0  \n",
       "254351   1.0   1.0     1.0              3.0             25001.0  \n",
       "254352   1.0   1.0     1.0              2.0              5001.0  \n",
       "254353   0.0   0.0     1.0              3.0            100001.0  \n",
       "254354   0.0   1.0     1.0              2.0            100001.0  \n",
       "\n",
       "[254355 rows x 31 columns]"
      ]
     },
     "execution_count": 10,
     "metadata": {},
     "output_type": "execute_result"
    }
   ],
   "source": [
    "# reading in raw provided data\n",
    "csv_sites = pd.read_csv(\"PFW_count_site_data_public_2021.csv\")\n",
    "\n",
    "#creating dataframe\n",
    "sites_df = pd.DataFrame(csv_sites)\n",
    "\n",
    "# keeping only the columns that will be involved in analysis\n",
    "sites_df = sites_df[['loc_id', 'proj_period_id', 'yard_type_pavement', 'yard_type_garden', 'yard_type_landsca', 'yard_type_woods', \n",
    "'yard_type_desert','hab_dcid_woods', 'hab_evgr_woods', 'hab_mixed_woods', 'hab_orchard', 'hab_park', 'hab_water_fresh', \n",
    "'hab_water_salt', 'hab_residential','hab_industrial', 'hab_agricultural', 'hab_desert_scrub', 'hab_young_woods', 'hab_swamp', \n",
    "'hab_marsh', 'brsh_piles_atleast', 'water_srcs_atleast', 'bird_baths_atleast', 'nearby_feeders', 'squirrels', 'cats', 'dogs', 'humans',\n",
    "'housing_density', 'population_atleast']]\n",
    "\n",
    "sites_df"
   ]
  },
  {
   "cell_type": "code",
   "execution_count": 40,
   "id": "3671f970",
   "metadata": {},
   "outputs": [
    {
     "name": "stdout",
     "output_type": "stream",
     "text": [
      "Returning data to local variable join_df\n"
     ]
    }
   ],
   "source": [
    "#join species_limited_df (sightings of top species) with sites_df (location details)\n",
    "#%sql join_df << SELECT species_limited_df.loc_id, subnational1_code, species_code, how_many, snow_dep_atleast, species_name, date_time, proj_period_id, yard_type_pavement, yard_type_garden, yard_type_landsca, yard_type_woods, yard_type_desert,hab_dcid_woods, hab_evgr_woods, hab_mixed_woods, hab_orchard, hab_park, hab_water_fresh, hab_water_salt, hab_residential,hab_industrial, hab_agricultural, hab_desert_scrub, hab_young_woods, hab_swamp, hab_marsh, brsh_piles_atleast, water_srcs_atleast, bird_baths_atleast, nearby_feeders, squirrels, cats, dogs, humans, housing_density, population_atleast, FROM species_limited_df INNER JOIN sites_df ON species_limited_df.loc_id = sites_df.loc_id;\n",
    "\n",
    "#changed join_df to have these columns for the hypothesis testing section\n",
    "%sql join_df << SELECT month, day, year, species_limited_df.loc_id, species_code, species_name, how_many, date_time, day1_am, day1_pm, day2_am, day2_pm, Light_Snow, Heavy_Snow, No_Snow, proj_period_id, yard_type_pavement, yard_type_garden, yard_type_landsca, yard_type_woods, yard_type_desert,hab_dcid_woods, hab_evgr_woods, hab_mixed_woods, hab_orchard, hab_park, hab_water_fresh, hab_water_salt, hab_residential,hab_industrial, hab_agricultural, hab_desert_scrub, hab_young_woods, hab_swamp, hab_marsh, brsh_piles_atleast, water_srcs_atleast, bird_baths_atleast, nearby_feeders, squirrels, cats, dogs, humans, housing_density, population_atleast, FROM species_limited_df INNER JOIN sites_df ON species_limited_df.loc_id = sites_df.loc_id;"
   ]
  },
  {
   "cell_type": "code",
   "execution_count": 41,
   "id": "25f82245",
   "metadata": {},
   "outputs": [
    {
     "data": {
      "text/html": [
       "<div>\n",
       "<style scoped>\n",
       "    .dataframe tbody tr th:only-of-type {\n",
       "        vertical-align: middle;\n",
       "    }\n",
       "\n",
       "    .dataframe tbody tr th {\n",
       "        vertical-align: top;\n",
       "    }\n",
       "\n",
       "    .dataframe thead th {\n",
       "        text-align: right;\n",
       "    }\n",
       "</style>\n",
       "<table border=\"1\" class=\"dataframe\">\n",
       "  <thead>\n",
       "    <tr style=\"text-align: right;\">\n",
       "      <th></th>\n",
       "      <th>month</th>\n",
       "      <th>day</th>\n",
       "      <th>year</th>\n",
       "      <th>loc_id</th>\n",
       "      <th>species_code</th>\n",
       "      <th>species_name</th>\n",
       "      <th>how_many</th>\n",
       "      <th>date_time</th>\n",
       "      <th>day1_am</th>\n",
       "      <th>day1_pm</th>\n",
       "      <th>...</th>\n",
       "      <th>brsh_piles_atleast</th>\n",
       "      <th>water_srcs_atleast</th>\n",
       "      <th>bird_baths_atleast</th>\n",
       "      <th>nearby_feeders</th>\n",
       "      <th>squirrels</th>\n",
       "      <th>cats</th>\n",
       "      <th>dogs</th>\n",
       "      <th>humans</th>\n",
       "      <th>housing_density</th>\n",
       "      <th>population_atleast</th>\n",
       "    </tr>\n",
       "  </thead>\n",
       "  <tbody>\n",
       "    <tr>\n",
       "      <th>0</th>\n",
       "      <td>4</td>\n",
       "      <td>24</td>\n",
       "      <td>2021</td>\n",
       "      <td>L10011987</td>\n",
       "      <td>blujay</td>\n",
       "      <td>Blue Jay</td>\n",
       "      <td>0</td>\n",
       "      <td>2021-04-24</td>\n",
       "      <td>1</td>\n",
       "      <td>0</td>\n",
       "      <td>...</td>\n",
       "      <td>1.0</td>\n",
       "      <td>0.0</td>\n",
       "      <td>1.0</td>\n",
       "      <td>0.0</td>\n",
       "      <td>1.0</td>\n",
       "      <td>1.0</td>\n",
       "      <td>0.0</td>\n",
       "      <td>1.0</td>\n",
       "      <td>2.0</td>\n",
       "      <td>5001.0</td>\n",
       "    </tr>\n",
       "    <tr>\n",
       "      <th>1</th>\n",
       "      <td>4</td>\n",
       "      <td>24</td>\n",
       "      <td>2021</td>\n",
       "      <td>L10011987</td>\n",
       "      <td>blujay</td>\n",
       "      <td>Blue Jay</td>\n",
       "      <td>0</td>\n",
       "      <td>2021-04-24</td>\n",
       "      <td>1</td>\n",
       "      <td>0</td>\n",
       "      <td>...</td>\n",
       "      <td>0.0</td>\n",
       "      <td>0.0</td>\n",
       "      <td>1.0</td>\n",
       "      <td>0.0</td>\n",
       "      <td>1.0</td>\n",
       "      <td>1.0</td>\n",
       "      <td>0.0</td>\n",
       "      <td>1.0</td>\n",
       "      <td>2.0</td>\n",
       "      <td>5001.0</td>\n",
       "    </tr>\n",
       "    <tr>\n",
       "      <th>2</th>\n",
       "      <td>1</td>\n",
       "      <td>30</td>\n",
       "      <td>2021</td>\n",
       "      <td>L10012113</td>\n",
       "      <td>blujay</td>\n",
       "      <td>Blue Jay</td>\n",
       "      <td>0</td>\n",
       "      <td>2021-01-30</td>\n",
       "      <td>1</td>\n",
       "      <td>0</td>\n",
       "      <td>...</td>\n",
       "      <td>0.0</td>\n",
       "      <td>0.0</td>\n",
       "      <td>1.0</td>\n",
       "      <td>0.0</td>\n",
       "      <td>1.0</td>\n",
       "      <td>1.0</td>\n",
       "      <td>1.0</td>\n",
       "      <td>1.0</td>\n",
       "      <td>3.0</td>\n",
       "      <td>5001.0</td>\n",
       "    </tr>\n",
       "    <tr>\n",
       "      <th>3</th>\n",
       "      <td>4</td>\n",
       "      <td>29</td>\n",
       "      <td>2021</td>\n",
       "      <td>L10049605</td>\n",
       "      <td>blujay</td>\n",
       "      <td>Blue Jay</td>\n",
       "      <td>0</td>\n",
       "      <td>2021-04-29</td>\n",
       "      <td>1</td>\n",
       "      <td>1</td>\n",
       "      <td>...</td>\n",
       "      <td>0.0</td>\n",
       "      <td>0.0</td>\n",
       "      <td>1.0</td>\n",
       "      <td>1.0</td>\n",
       "      <td>1.0</td>\n",
       "      <td>0.0</td>\n",
       "      <td>1.0</td>\n",
       "      <td>1.0</td>\n",
       "      <td>3.0</td>\n",
       "      <td>25001.0</td>\n",
       "    </tr>\n",
       "    <tr>\n",
       "      <th>4</th>\n",
       "      <td>4</td>\n",
       "      <td>29</td>\n",
       "      <td>2021</td>\n",
       "      <td>L10049605</td>\n",
       "      <td>blujay</td>\n",
       "      <td>Blue Jay</td>\n",
       "      <td>0</td>\n",
       "      <td>2021-04-29</td>\n",
       "      <td>1</td>\n",
       "      <td>1</td>\n",
       "      <td>...</td>\n",
       "      <td>0.0</td>\n",
       "      <td>0.0</td>\n",
       "      <td>1.0</td>\n",
       "      <td>0.0</td>\n",
       "      <td>1.0</td>\n",
       "      <td>0.0</td>\n",
       "      <td>1.0</td>\n",
       "      <td>1.0</td>\n",
       "      <td>3.0</td>\n",
       "      <td>25001.0</td>\n",
       "    </tr>\n",
       "  </tbody>\n",
       "</table>\n",
       "<p>5 rows × 45 columns</p>\n",
       "</div>"
      ],
      "text/plain": [
       "   month  day  year     loc_id species_code species_name  how_many  date_time  \\\n",
       "0      4   24  2021  L10011987       blujay     Blue Jay         0 2021-04-24   \n",
       "1      4   24  2021  L10011987       blujay     Blue Jay         0 2021-04-24   \n",
       "2      1   30  2021  L10012113       blujay     Blue Jay         0 2021-01-30   \n",
       "3      4   29  2021  L10049605       blujay     Blue Jay         0 2021-04-29   \n",
       "4      4   29  2021  L10049605       blujay     Blue Jay         0 2021-04-29   \n",
       "\n",
       "   day1_am  day1_pm  ...  brsh_piles_atleast  water_srcs_atleast  \\\n",
       "0        1        0  ...                 1.0                 0.0   \n",
       "1        1        0  ...                 0.0                 0.0   \n",
       "2        1        0  ...                 0.0                 0.0   \n",
       "3        1        1  ...                 0.0                 0.0   \n",
       "4        1        1  ...                 0.0                 0.0   \n",
       "\n",
       "   bird_baths_atleast  nearby_feeders  squirrels cats  dogs  humans  \\\n",
       "0                 1.0             0.0        1.0  1.0   0.0     1.0   \n",
       "1                 1.0             0.0        1.0  1.0   0.0     1.0   \n",
       "2                 1.0             0.0        1.0  1.0   1.0     1.0   \n",
       "3                 1.0             1.0        1.0  0.0   1.0     1.0   \n",
       "4                 1.0             0.0        1.0  0.0   1.0     1.0   \n",
       "\n",
       "   housing_density  population_atleast  \n",
       "0              2.0              5001.0  \n",
       "1              2.0              5001.0  \n",
       "2              3.0              5001.0  \n",
       "3              3.0             25001.0  \n",
       "4              3.0             25001.0  \n",
       "\n",
       "[5 rows x 45 columns]"
      ]
     },
     "execution_count": 41,
     "metadata": {},
     "output_type": "execute_result"
    }
   ],
   "source": [
    "join_df.head()"
   ]
  },
  {
   "cell_type": "code",
   "execution_count": 54,
   "id": "0869c642",
   "metadata": {},
   "outputs": [],
   "source": [
    "# taking only quantitative columns to prepare for correlation matrix\n",
    "quantitative_join_df = join_df[['how_many', 'snow_dep_atleast', 'yard_type_pavement', 'yard_type_garden', \n",
    "                                'yard_type_landsca', 'yard_type_woods', 'yard_type_desert', 'hab_dcid_woods', \n",
    "                               'hab_evgr_woods', 'hab_mixed_woods', 'hab_orchard', 'hab_park', 'hab_water_fresh', \n",
    "                                'hab_water_salt', 'hab_residential', 'hab_industrial', 'hab_agricultural', \n",
    "                               'hab_desert_scrub', 'hab_young_woods', 'hab_swamp', 'hab_marsh', 'brsh_piles_atleast', \n",
    "                                'water_srcs_atleast', 'bird_baths_atleast', 'nearby_feeders', 'squirrels', 'cats', 'dogs', \n",
    "                                'humans', 'housing_density', 'population_atleast']]"
   ]
  },
  {
   "cell_type": "code",
   "execution_count": 55,
   "id": "b23cde8f",
   "metadata": {},
   "outputs": [
    {
     "data": {
      "image/png": "[encoded data removed]",
      "text/plain": [
       "<Figure size 1296x864 with 2 Axes>"
      ]
     },
     "metadata": {
      "needs_background": "light"
     },
     "output_type": "display_data"
    }
   ],
   "source": [
    "corr = quantitative_join_df.corr()\n",
    "\n",
    "fig = plt.figure()\n",
    "fig.set_size_inches(18, 12)\n",
    "ax = fig.add_subplot() \n",
    "fig.colorbar(ax.matshow(corr, cmap='RdBu', vmin=-1, vmax=1)) \n",
    "\n",
    "ax.set_xticks(range(len(corr.columns))) \n",
    "ax.set_xticklabels(corr.columns)\n",
    "for tick in ax.get_xticklabels(): \n",
    "        tick.set_rotation(90)\n",
    "\n",
    "ax.set_yticks(range(len(corr.columns))) \n",
    "ax.set_yticklabels(corr.columns)\n",
    "\n",
    "plt.show()"
   ]
  },
  {
   "cell_type": "markdown",
   "id": "251201d6",
   "metadata": {},
   "source": [
    "## Data Description"
   ]
  },
  {
   "cell_type": "markdown",
   "id": "c93e81a5",
   "metadata": {},
   "source": [
    "Our data in `df` comprises of observations (rows) of bird sightings in NY state between November 2020 and April 2021. It has attributes (columns) of the following: \n",
    "- `loc_id`: Unique identifier for each survey site\n",
    "- `subnational1_code`: Country abbreviation and State or Province abbreviation of each survey site. \n",
    "- `Month`: Month of 1st day of two-day sighting\n",
    "- `Day`: Month of 1st day of two-day sighting\n",
    "- `Year`: Year of 1st day of two-day sighting\n",
    "- `species_code`: Bird species observed, stored as 6-letter species codes\n",
    "- `how_many`: Maximum number of individuals seen at one time during observation period\n",
    "- `valid`: Validity of each observation based on flagging system\n",
    "- `day1_am`: binary indicating if observer watched during morning of count Day 1\n",
    "- `day1_pm`: binary indicating if observer watched during afternoon of count Day 1\n",
    "- `day2_am`: binary indicating if observer watched during morning of count Day 2\n",
    "- `day2_pm`: binary indicating if observer watched during afternoon of count Day 2\n",
    "- `snow_dep_atleast`: Participant estimate of minimum snow depth\n",
    "\n",
    "\n",
    "In our case, we have constrained our data to only look at entries from NY state (`subnational1_code` = \"US-NY\") and are valid (`valid` = 1). "
   ]
  },
  {
   "cell_type": "markdown",
   "id": "6b235d9d",
   "metadata": {},
   "source": [
    "Our data from `species_translate_df` contains a species translation table provided by FeederWatch. The most relevant columns are as follows:\n",
    "- `species_code`: variable storing a 6 letter string representing a species code\n",
    "- `american_english_name`: variable storing a string representing the full common name of the species in English\n",
    "\n",
    "We use `species_translate_df` in an inner join during Data Cleaning to create `df`."
   ]
  },
  {
   "cell_type": "code",
   "execution_count": null,
   "id": "64b2a795",
   "metadata": {},
   "outputs": [],
   "source": [
    "species_translate_df.head()"
   ]
  },
  {
   "cell_type": "code",
   "execution_count": null,
   "id": "ae3cee79",
   "metadata": {
    "scrolled": true
   },
   "outputs": [],
   "source": [
    "df.head()"
   ]
  },
  {
   "cell_type": "markdown",
   "id": "91ee7007",
   "metadata": {},
   "source": [
    "Our data in `join_df` comprises of observations (rows) of bird sightings in NY state between November 2020 and April 2021 from `df`, with additional columns from `sites_df`, which has attributes regarding location/environment details based on a unique location id. This dataframe has new additional attributes (columns) of the following: \n",
    "\n",
    "\n",
    "- `proj_period_id`: Calendar year of end of FeederWatch season\n",
    "- `yard_type_pavement`: binary variable whether location is pavement (no vegetation)\n",
    "- `yard_type_garden`: binary variable whether location is a garden/courtyard \n",
    "- `yard_type_landsca`: binary variable whether location is a landscaped yard\n",
    "- `yard_type_woods`: binary variable whether location is natural vegetation\n",
    "- `yard_type_desert`: binary variable whether location is a natural or landscaped desert\n",
    "- `hab_dcid_woods`: binary variable whether location is within 0.5mi from deciduous woods\n",
    "- `hab_evgr_woods`: binary variable whether location is within 0.5mi from evergreen woods\n",
    "- `hab_dcid_woods`: binary variable whether location is within 0.5mi from deciduous woods\n",
    "- `hab_mixed_woods`: binary variable whether location is within 0.5mi from mixed deciduous-evergreen woods\n",
    "- `hab_orchard`: binary variable whether location is within 0.5mi from an orchard\n",
    "- `hab_park`: binary variable whether location is within 0.5mi from a park\n",
    "- `hab_water_fresh`: binary variable whether location is within 0.5mi from fresh water\n",
    "- `hab_water_salt`: binary variable whether location is within 0.5mi from salt water\n",
    "- `hab_residential`: binary variable whether location is within 0.5mi from a residential area\n",
    "- `hab_industrial`: binary variable whether location is within 0.5mi from an industrial or commercial area\n",
    "- `hab_agricultural`: binary variable whether location is within 0.5mi from an agricultural fields\n",
    "- `hab_desert_scrub`: binary variable whether location is within 0.5mi from a desert or scrub\n",
    "- `hab_young_woods`: binary variable whether location is within 0.5mi from an secondary growth woods\n",
    "- `hab_swamp`: binary variable whether location is within 0.5mi from a swamp (wooded)\n",
    "- `hab_marsh`: binary variable whether location is within 0.5mi from a marsh\n",
    "- `brsh_piles_atleast`: Minimum number of brush piles within the count area\n",
    "- `water_srcs_atleast`: Minimum number of water sources within the count area\n",
    "- `bird_baths_atleast`: Minimum number of bird baths within the count area\n",
    "- `nearby_feeders`: binary variable whether other feeders (aside from those maintained by participant) within 90m of the count site\n",
    "- `squirrels`: binary variable whether squirrels take food from the feeders at least 3 times a week\n",
    "- `cats`: binary variable whether cats are active within 30m of the feeder for at least 30 min 3 times a week\n",
    "- `dogs`: binary variable whether dogs are active within 30m of the feeder for at least 30 min 3 times a week\n",
    "- `humans`: binary variable whether humans are active within 30m of the feeder for at least 30 min 3 times a week\n",
    "- `housing_density`: Participant-defined description of the housing density of the neighborhood, where 1 = \"rural\", 2 = \"rural/suburban\", 3 = \"suburban\", 4 = \"urban\"\n",
    "- `population_atleast`: categorical variable expressing participant estimated population of city or town"
   ]
  },
  {
   "cell_type": "code",
   "execution_count": null,
   "id": "4af110b6",
   "metadata": {},
   "outputs": [],
   "source": [
    "join_df.head()"
   ]
  },
  {
   "cell_type": "markdown",
   "id": "011c3776",
   "metadata": {},
   "source": [
    "This dataset was created by Project FeederWatch for researchers seeking to conduct formal analyses, but also to have this data be freely accessible to students, journalists, and the general public. The data is collected by contributors and participants. It is created and supported by Cornell Lab and Birds Canada. Since 2016, Project FeederWatch has been sponsored by Wild Bird Unlimited and the National Science Foundation."
   ]
  },
  {
   "cell_type": "markdown",
   "id": "cf7d5b46",
   "metadata": {},
   "source": [
    "Because this is community-curated data, there are many processes that may have influenced what data was observed/recorded and what was not, including mislogging information. This dataset involved a validity checker that flags odd sightings and has them checked by a reviewer. The data we will be using for this project drops invalid observations. FeederWatch also notes there may be mislogged locations in `subnational1_code` represented \"XX\" locations, which we dropped when choosing to only look at NY state data. \n",
    "\n",
    "Because this is community-currated data, there is also volunteer bias in observations, as certain locations or species may be more common in the dataset due to active and dedicated users. However, many users are also very knowledgeable about birds, and therefore can provide a lot of information and identification resources. \n",
    "\n",
    "Preprocessing was done to change the very large dataset into a smaller, more manageable one with relevant columns. We filtered the data, dropped irrelevant columns, and added columns to bin data or aid in time series analysis. Details on the Data Cleaning process can be found in the appendix. \n",
    "\n",
    "Our raw datasource can be found [here](https://cornell.box.com/s/wzdfg3lotvqr6wc5ik680jzit8fu3t7s) via Cornell Box, or on the [FeederWatch Website](https://feederwatch.org/explore/raw-dataset-requests/)."
   ]
  },
  {
   "cell_type": "markdown",
   "id": "9560cc37",
   "metadata": {},
   "source": [
    "## Data Limitations\n",
    "\n",
    "There are some notable limitations with our dataset - as FeederWatch notes on their website, the sheer scale of the data collected and the nature of citizen science involving a large number of participants taking unverifiable observations in varying circumstances mean that the data inherently will have imperfections. For example, some species may appear highly similar to each other, which may cause increased rates of misidentification for those species. When proceeding with further analysis, this effect can be limited somewhat by grouping together similar species into general families. FeederWatch also notes that it is likely for meaningful biological patterns to still emerge from the data despite the possibility of erroneous entries.\n",
    "\n",
    "A significant limitation of the data is described by FeederWatch as follows: \"a recorded observation is a function of both the biological event (number of species actually present) and the observation process (probability that an individual, when present, will be observed)\". Without using formal estimation of detection probabilities, it cannot be said that higher numbers of observations for a species necessarily indicate that the species is actually present at greater frequencies - we can only make conclusions about observations, not definitively the state of the biological system. \n",
    "\n",
    "For example, we cannot say with complete confidence that a species is more frequent in a certain month - only that it is more frequently observed in that month. While a subtle nuance, this is important to consider. For example, it is possible there are species which are very frequent feeder visitors, but are rarely observed due to visiting at times people tend not to be observing, are quick and difficult to identify, etc.\n",
    "\n",
    "Without taking these limitations into consideration, there is a risk of erroneously representing the data and misleading people about the state of avian biodiversity."
   ]
  },
  {
   "cell_type": "markdown",
   "id": "68bde015",
   "metadata": {},
   "source": [
    "## Preregistration statement"
   ]
  },
  {
   "cell_type": "markdown",
   "id": "513e8732",
   "metadata": {},
   "source": [
    "# add a summary of why we want to test these topics and how they're useful for the real world HERE"
   ]
  },
  {
   "cell_type": "markdown",
   "id": "d52fc77b",
   "metadata": {},
   "source": [
    "H0 : p1 = p2  \n",
    "The proportion of _Accipiter_ observations in each habitat type is equal to the proportion of that habitat type across all observations -> _Accipiter_ is observed at equal frequencies across sites with differing housing densities.\n",
    "\n",
    "HA : p1 != p2  \n",
    "The proportion of _Accipiter_ observations in each habitat type is not equal to the proportion of that habitat type across all observations -> _Accipiter_ is more frequently observed at sites with certain housing densities.\n",
    "\n",
    "We hypothesize this may be the case because birds within the genus _Accipiter_ are birds of prey that need environments where they can find food, which may be easier in environments with small birds congregating around bird feeders or in urban areas where rodents thrive.\n",
    "\n",
    "\n",
    "H0 : p1 = p2  \n",
    "The proportion of _Junco_ observations in each habitat type is equal to the proportion of that habitat type across all observations -> _Junco_ is observed at equal frequencies across sites with differing housing densities.\n",
    "\n",
    "HA : p1 != p2  \n",
    "The proportion of _Junco_ observations in each habitat type is not equal to the proportion of that habitat type across all observations -> _Junco_ is more frequently observed at sites with certain housing densities.\n",
    "\n",
    "\n",
    "We hypothesize this may be the case because birds within the genus _Junco_ (small North American sparrows) are a common bird that are typically not phased by humans, therefore we think they may be more likely to be observed in more populated areas."
   ]
  },
  {
   "cell_type": "markdown",
   "id": "7cc4c058",
   "metadata": {},
   "source": [
    "## Data analysis\n",
    "Use summary functions like mean and standard deviation along with\n",
    "visual displays like scatterplots and histograms to describe data.\n",
    "Provide at least one model showing patterns or relationships between\n",
    "variables that addresses your research question. This could be a\n",
    "regression or clustering, or something else that measures some property\n",
    "of the dataset.\n",
    "\n",
    "# correlations, exploratative graphs that are RELATED to hypothesis and research question; be concise and remove take out irrelevant things !!! \n",
    "# you can edit your hypothesis as you go, show adaptations if so\n",
    "# TELL A STORY for flow"
   ]
  },
  {
   "cell_type": "markdown",
   "id": "e33d3afc",
   "metadata": {},
   "source": [
    "### Bar Graphs to compare proportion of observations in each habitat vs. proportion of that habitat type across all observations"
   ]
  },
  {
   "cell_type": "code",
   "execution_count": 15,
   "id": "4206b8d2",
   "metadata": {},
   "outputs": [],
   "source": [
    "accipiter_df = pd.read_csv('accipiter.csv')\n",
    "junco_df = pd.read_csv('junco.csv')\n",
    "accipiter_df['how_many_binary'] = np.where(accipiter_df['how_many']>0, 1, 0)\n",
    "junco_df['how_many_binary'] = np.where(junco_df['how_many']>0, 1, 0)"
   ]
  },
  {
   "cell_type": "code",
   "execution_count": 16,
   "id": "9d002885",
   "metadata": {},
   "outputs": [],
   "source": [
    "def get_null_actual(df):\n",
    "    housing_density_freq = df['housing_density'].value_counts() # series with counts for observations with each housing density\n",
    "\n",
    "    # list of categories mapped to by the floats in housing_density\n",
    "    housing_density_categories = [\"rural\", \"suburban rural\", \" suburban\", \"urban\"] \n",
    "\n",
    "    actual_in_p = [] # actual \"in\" proportion p for each housing density of this data\n",
    "    null_in_p = [] # proportion p for each housing density/overall reported observations\n",
    "    \n",
    "    # looping through numbers 1-4, the values in housing_density\n",
    "    for i in range(1, 5): \n",
    "    \n",
    "        # slicing dataframe into observations that were taken in sites with this housing density and observations that were taken otherwise\n",
    "        out_df = df[df['housing_density'] != float(i)] # outside this housing density\n",
    "        in_df = df[df['housing_density'] == float(i)] # inside this housing density\n",
    "\n",
    "\n",
    "        out_sum = out_df['how_many_binary'].sum() # number of observations this genus was observed outside of sites of this housing density\n",
    "        in_sum = in_df['how_many_binary'].sum() # number of observations this genus was observed inside sites of of this housing density\n",
    "\n",
    "        total_sum = out_sum + in_sum # calculate total sum of observed counts\n",
    "\n",
    "        out_proportion = out_sum/total_sum # proportion of counts observed outside this housing density\n",
    "        in_proportion = in_sum/total_sum # proportion of counts observed inside this housing density\n",
    "\n",
    "        actual_in_p.append(in_proportion)\n",
    "        \n",
    "        # accessing the number of observations with this housing density and dividing by the total number of observations to normalize\n",
    "        # aka finding proportion of this housing density relative to total house density data\n",
    "        housing_proportion = housing_density_freq[float(i)] / df['how_many_binary'].count() \n",
    "        \n",
    "        null_in_p.append(housing_proportion)\n",
    "\n",
    "    return null_in_p, actual_in_p"
   ]
  },
  {
   "cell_type": "code",
   "execution_count": 17,
   "id": "5181a9b7",
   "metadata": {},
   "outputs": [
    {
     "data": {
      "image/png": "[encoded data removed]",
      "text/plain": [
       "<Figure size 720x288 with 2 Axes>"
      ]
     },
     "metadata": {
      "needs_background": "light"
     },
     "output_type": "display_data"
    }
   ],
   "source": [
    "#plotting null (proportion of observations in each housing density category) and actual (proportion of sightings in each housing category)\n",
    "accipiter_null_in_p, accipiter_actual_in_p = get_null_actual(accipiter_df)\n",
    "\n",
    "fig, (ax1, ax2) = plt.subplots(1, 2, figsize=(10,4))\n",
    "fig.subplots_adjust(wspace=0.65)\n",
    "\n",
    "housing_density_categories = [\"rural\", \"suburban rural\", \" suburban\", \"urban\"] \n",
    "ax1.bar(housing_density_categories, accipiter_null_in_p)\n",
    "ax2.bar(housing_density_categories, accipiter_actual_in_p)\n",
    "plt.show()"
   ]
  },
  {
   "cell_type": "code",
   "execution_count": 18,
   "id": "7f7138a5",
   "metadata": {},
   "outputs": [
    {
     "data": {
      "image/png": "[encoded data removed]",
      "text/plain": [
       "<Figure size 720x288 with 2 Axes>"
      ]
     },
     "metadata": {
      "needs_background": "light"
     },
     "output_type": "display_data"
    }
   ],
   "source": [
    "junco_null_in_p, junco_actual_in_p = get_null_actual(junco_df)\n",
    "\n",
    "fig, (ax1, ax2) = plt.subplots(1, 2, figsize=(10,4))\n",
    "fig.subplots_adjust(wspace=0.65)\n",
    "ax1.bar(housing_density_categories, junco_null_in_p)\n",
    "ax2.bar(housing_density_categories, junco_actual_in_p)\n",
    "plt.show()"
   ]
  },
  {
   "cell_type": "markdown",
   "id": "18745b36",
   "metadata": {},
   "source": [
    "## Evaluation of significance\n",
    "Use hypothesis tests, simulation, randomization, or\n",
    "any other techniques we have learned to compare the patterns you observe in the\n",
    "dataset to simple randomness."
   ]
  },
  {
   "cell_type": "code",
   "execution_count": 21,
   "id": "74bb948c",
   "metadata": {},
   "outputs": [
    {
     "name": "stdout",
     "output_type": "stream",
     "text": [
      "Accipiter t-test: Ttest_indResult(statistic=-0.010138646842690778, pvalue=0.9922393702868993)\n",
      "Junco t-test: Ttest_indResult(statistic=-0.002384859013915154, pvalue=0.998174474614944)\n"
     ]
    }
   ],
   "source": [
    "from scipy import stats\n",
    "\n",
    "print(\"Accipiter t-test:\", stats.ttest_ind(accipiter_null_in_p, accipiter_actual_in_p))\n",
    "print(\"Junco t-test:\", stats.ttest_ind(junco_null_in_p, junco_actual_in_p))"
   ]
  },
  {
   "cell_type": "markdown",
   "id": "fb05a5ba",
   "metadata": {},
   "source": [
    "#### Results of two sided t-test for difference in proportions\n",
    "Although from looking at the graphs we saw differing distributions, after running t-tests on both the Accipiter and Junco distributions, we do not see anything statistically significant. In fact, the null hypothesis appears to be quite accurate. This means we fail to reject the null hypothesis that the proportion of Accipiter/Junco observations we see across the four housing densities differs from the proportion of observations from the four housing density proportions. In other words for example, the peak in rural observations is expected to be due to the fact the dataset recieved more reports from bird watchers in rural areas, not that the bird species prefers to be in the rural areas. "
   ]
  },
  {
   "cell_type": "code",
   "execution_count": 79,
   "id": "76891058",
   "metadata": {},
   "outputs": [
    {
     "name": "stdout",
     "output_type": "stream",
     "text": [
      "Returning data to local variable species_limited_df\n"
     ]
    }
   ],
   "source": [
    "#have to run all this code here because we are using a subset of the data, bluejay_df.csv now instead of everything\n",
    "csv = pd.read_csv(\"bluejay_df.csv\") \n",
    "species_limited_df = pd.DataFrame(csv)\n",
    "species_limited_df.drop(['Unnamed: 0'],  axis= 1, inplace= True)\n",
    "species_translate_df = pd.DataFrame(pd.read_csv(\"PFW-species-translation-table.csv\"))\n",
    "%sql species_limited_df << SELECT loc_id, subnational1_code, month, day, year, species_limited_df.species_code, how_many, valid, day1_am, day1_pm, day2_am, day2_pm, snow_dep_atleast, american_english_name AS species_name FROM species_limited_df INNER JOIN species_translate_df ON species_limited_df.species_code = species_translate_df.species_code;"
   ]
  },
  {
   "cell_type": "code",
   "execution_count": 80,
   "id": "598a1364",
   "metadata": {},
   "outputs": [],
   "source": [
    "# dropping rows where snow depth was null\n",
    "species_limited_df = species_limited_df.dropna(subset=['snow_dep_atleast'])\n",
    "# creating new category with string corresponding to each value in snow depth (for binning in the line plots)\n",
    "species_limited_df['snow_category'] = 'No_Snow'\n",
    "species_limited_df.loc[species_limited_df['snow_dep_atleast'] == 0.001, 'snow_category'] = 'Light_Snow'\n",
    "species_limited_df.loc[species_limited_df['snow_dep_atleast'] == 5.000, 'snow_category'] = '5 to 15 cm'\n",
    "species_limited_df.loc[species_limited_df['snow_dep_atleast'] == 15.001, 'snow_category'] = 'Heavy_Snow'\n",
    "snow_dummies = pd.get_dummies(species_limited_df['snow_category'], drop_first=True)\n",
    "species_limited_df = pd.concat([species_limited_df, snow_dummies], axis=1)\n",
    "species_limited_df.drop(['snow_category', 'snow_dep_atleast'],  axis= 1, inplace= True)\n",
    "# create a column that puts month, date, year in one string\n",
    "species_limited_df['datestring'] = species_limited_df['month'].astype(str) + \"/\" + species_limited_df['day'].astype(str) + \"/\" + species_limited_df['year'].astype(str)\n",
    "#turn datestring into datetime and drop datestring\n",
    "species_limited_df['date_time'] = pd.to_datetime(species_limited_df['datestring'], format='%m/%d/%Y')\n",
    "species_limited_df = species_limited_df.drop(columns=[\"datestring\"])"
   ]
  },
  {
   "cell_type": "code",
   "execution_count": 90,
   "id": "a0dd52a9",
   "metadata": {},
   "outputs": [
    {
     "name": "stdout",
     "output_type": "stream",
     "text": [
      "Returning data to local variable join_df\n"
     ]
    }
   ],
   "source": [
    "%sql join_df << SELECT month, day, year, species_limited_df.loc_id, species_code, species_name, how_many, date_time, day1_am, day1_pm, day2_am, day2_pm, Light_Snow, Heavy_Snow, No_Snow, proj_period_id, yard_type_pavement, yard_type_garden, yard_type_landsca, yard_type_woods, yard_type_desert,hab_dcid_woods, hab_evgr_woods, hab_mixed_woods, hab_orchard, hab_park, hab_water_fresh, hab_water_salt, hab_residential,hab_industrial, hab_agricultural, hab_desert_scrub, hab_young_woods, hab_swamp, hab_marsh, brsh_piles_atleast, water_srcs_atleast, bird_baths_atleast, nearby_feeders, squirrels, cats, dogs, humans, housing_density, population_atleast, FROM species_limited_df INNER JOIN sites_df ON species_limited_df.loc_id = sites_df.loc_id;"
   ]
  },
  {
   "cell_type": "code",
   "execution_count": 39,
   "id": "b68928ed",
   "metadata": {},
   "outputs": [
    {
     "name": "stderr",
     "output_type": "stream",
     "text": [
      "C:\\Users\\mkolb\\anaconda3\\envs\\info2950\\lib\\site-packages\\statsmodels\\base\\model.py:604: ConvergenceWarning: Maximum Likelihood optimization failed to converge. Check mle_retvals\n",
      "  warnings.warn(\"Maximum Likelihood optimization failed to \"\n"
     ]
    },
    {
     "name": "stdout",
     "output_type": "stream",
     "text": [
      "Warning: Maximum number of iterations has been exceeded.\n",
      "         Current function value: 0.352502\n",
      "         Iterations: 35\n",
      "         Function evaluations: 37\n",
      "         Gradient evaluations: 37\n"
     ]
    },
    {
     "name": "stderr",
     "output_type": "stream",
     "text": [
      "C:\\Users\\mkolb\\anaconda3\\envs\\info2950\\lib\\site-packages\\statsmodels\\base\\model.py:604: ConvergenceWarning: Maximum Likelihood optimization failed to converge. Check mle_retvals\n",
      "  warnings.warn(\"Maximum Likelihood optimization failed to \"\n"
     ]
    },
    {
     "name": "stdout",
     "output_type": "stream",
     "text": [
      "                     ZeroInflatedPoisson Regression Results                    \n",
      "===============================================================================\n",
      "Dep. Variable:                how_many   No. Observations:               929943\n",
      "Model:             ZeroInflatedPoisson   Df Residuals:                   929938\n",
      "Method:                            MLE   Df Model:                            4\n",
      "Date:                 Fri, 18 Nov 2022   Pseudo R-squ.:                 0.02541\n",
      "Time:                         00:54:05   Log-Likelihood:            -3.2781e+05\n",
      "converged:                       False   LL-Null:                   -3.3635e+05\n",
      "Covariance Type:             nonrobust   LLR p-value:                     0.000\n",
      "===========================================================================================\n",
      "                              coef    std err          z      P>|z|      [0.025      0.975]\n",
      "-------------------------------------------------------------------------------------------\n",
      "inflate_Intercept           2.4188      0.014    173.917      0.000       2.392       2.446\n",
      "inflate_housing_density    -0.0271      0.005     -5.314      0.000      -0.037      -0.017\n",
      "inflate_Light_Snow          0.4915      0.016     30.778      0.000       0.460       0.523\n",
      "inflate_Heavy_Snow          0.5079      0.015     34.661      0.000       0.479       0.537\n",
      "inflate_No_Snow             0.3870      0.012     32.187      0.000       0.363       0.411\n",
      "Intercept                   1.8053      0.008    218.838      0.000       1.789       1.821\n",
      "housing_density            -0.3888      0.003   -125.423      0.000      -0.395      -0.383\n",
      "Light_Snow                  0.0942      0.009     10.202      0.000       0.076       0.112\n",
      "Heavy_Snow                  0.2772      0.008     33.286      0.000       0.261       0.294\n",
      "No_Snow                     0.0485      0.008      6.245      0.000       0.033       0.064\n",
      "===========================================================================================\n"
     ]
    }
   ],
   "source": [
    "import statsmodels.api as sm\n",
    "from patsy import dmatrices\n",
    "\n",
    "mask = np.random.rand(len(join_df)) < 0.8 #go back and use a proper train/test split \n",
    "join_df_train = join_df[mask]\n",
    "join_df_test = join_df[~mask]\n",
    "\n",
    "expr = 'how_many ~ housing_density + Light_Snow + Heavy_Snow + No_Snow'\n",
    "y_train, X_train = dmatrices(expr, join_df_train, return_type='dataframe')\n",
    "y_test, X_test = dmatrices(expr, join_df_test, return_type='dataframe')\n",
    "\n",
    "zip_training_results = sm.ZeroInflatedPoisson(endog=y_train, exog=X_train, exog_infl=X_train, inflation='logit').fit()\n",
    "print(zip_training_results.summary())"
   ]
  },
  {
   "cell_type": "code",
   "execution_count": 50,
   "id": "018d9c63",
   "metadata": {},
   "outputs": [
    {
     "name": "stdout",
     "output_type": "stream",
     "text": [
      "ZIP RMSE=559.7267190334941\n"
     ]
    }
   ],
   "source": [
    "zip_predictions = zip_training_results.predict(X_test,exog_infl=X_test)\n",
    "predicted_counts=np.round(zip_predictions)\n",
    "actual_counts = y_test['how_many']\n",
    "print('ZIP RMSE='+str(np.sqrt(np.sum(np.power(np.subtract(predicted_counts,actual_counts),2)))))"
   ]
  },
  {
   "cell_type": "code",
   "execution_count": 57,
   "id": "e623cf74",
   "metadata": {},
   "outputs": [
    {
     "data": {
      "image/png": "[encoded data removed]",
      "text/plain": [
       "<Figure size 1440x216 with 1 Axes>"
      ]
     },
     "metadata": {
      "needs_background": "light"
     },
     "output_type": "display_data"
    }
   ],
   "source": [
    "fig = plt.figure()\n",
    "fig.suptitle('Predicted versus actual counts using the ZIP model')\n",
    "\n",
    "actual, = plt.plot(X_test.index, actual_counts, 'ro-', label='Actual')\n",
    "predicted, = plt.plot(X_test.index, predicted_counts, 'go-', label='Predicted')\n",
    "plt.legend(handles=[predicted, actual])\n",
    "plt.rcParams[\"figure.figsize\"] = (50,3)\n",
    "\n",
    "plt.show()"
   ]
  },
  {
   "cell_type": "code",
   "execution_count": 63,
   "id": "bcd1fbfd",
   "metadata": {},
   "outputs": [
    {
     "data": {
      "text/plain": [
       "0.0"
      ]
     },
     "execution_count": 63,
     "metadata": {},
     "output_type": "execute_result"
    }
   ],
   "source": [
    "predicted_counts.sum()"
   ]
  },
  {
   "cell_type": "markdown",
   "id": "77007c47",
   "metadata": {},
   "source": [
    "### Exploring snow levels and observation counts for the Common Redpoll  \n",
    "As a secondary research question, we investigated how the Common Redpoll (_Acanthis flammea_) may tend to appear in differently sized groups at feeders when different levels of snow are present. Redpolls are a small, common feeder bird that is known to often appear in groups numbering in the hundreds."
   ]
  },
  {
   "cell_type": "code",
   "execution_count": 5,
   "id": "4f339d45",
   "metadata": {},
   "outputs": [
    {
     "name": "stdout",
     "output_type": "stream",
     "text": [
      "Mean of redpoll count when snow is 0.0: 10.871540826785104\n",
      "Mean of redpoll count when snow is 0.001 - 5.0: 13.43467583497053\n",
      "Mean of redpoll count when snow is 5.0 - 15.001: 14.675405405405405\n",
      "Mean of redpoll count when snow is 15.001+: 19.30106237148732\n"
     ]
    }
   ],
   "source": [
    "redpoll_df = pd.read_csv(\"redpoll_df.csv\")\n",
    "print(\"Mean of redpoll count when snow is 0.0: \" + str(redpoll_df[redpoll_df['0.0'] == 1]['how_many'].mean()))\n",
    "print(\"Mean of redpoll count when snow is 0.001 - 5.0: \" + str(redpoll_df[redpoll_df['0.001'] == 1]['how_many'].mean()))\n",
    "print(\"Mean of redpoll count when snow is 5.0 - 15.001: \" + str(redpoll_df[redpoll_df['5.0'] == 1]['how_many'].mean()))\n",
    "print(\"Mean of redpoll count when snow is 15.001+: \" + str(redpoll_df[redpoll_df['15.001'] == 1]['how_many'].mean()))"
   ]
  },
  {
   "cell_type": "markdown",
   "id": "03d4e880",
   "metadata": {},
   "source": [
    "At first glance, it appears that the count of redpolls at feeders per observation increases with increasing snow depth. This can be verified with Welch's two-sample t-test to evaluate if the mean counts are statistically significantly different for observations at feeders with no snow compared to observations at feeders with over 15 cm of snow."
   ]
  },
  {
   "cell_type": "code",
   "execution_count": 12,
   "id": "6f7f0ea3",
   "metadata": {},
   "outputs": [
    {
     "data": {
      "text/plain": [
       "Text(0.5, 1.0, 'Counts per observation with 15 cm+ of snow')"
      ]
     },
     "execution_count": 12,
     "metadata": {},
     "output_type": "execute_result"
    },
    {
     "data": {
      "image/png": "[encoded data removed]",
      "text/plain": [
       "<Figure size 1080x576 with 2 Axes>"
      ]
     },
     "metadata": {
      "needs_background": "light"
     },
     "output_type": "display_data"
    }
   ],
   "source": [
    "fig, (ax1, ax2) = plt.subplots(1, 2, figsize=(15,8))\n",
    "ax1.boxplot(redpoll_df[redpoll_df['0.0'] == 1]['how_many'])\n",
    "ax2.boxplot(redpoll_df[redpoll_df['15.001'] == 1]['how_many'])\n",
    "ax1.set_title(\"Counts per observation with 0 cm of snow\")\n",
    "ax2.set_title(\"Counts per observation with 15 cm+ of snow\")"
   ]
  },
  {
   "cell_type": "code",
   "execution_count": 16,
   "id": "33caff54",
   "metadata": {},
   "outputs": [
    {
     "data": {
      "text/plain": [
       "Ttest_indResult(statistic=-17.973353614941498, pvalue=7.843153202349893e-71)"
      ]
     },
     "execution_count": 16,
     "metadata": {},
     "output_type": "execute_result"
    }
   ],
   "source": [
    "stats.ttest_ind(redpoll_df[redpoll_df['0.0'] == 1]['how_many'], redpoll_df[redpoll_df['15.001'] == 1]['how_many'], equal_var = False)"
   ]
  },
  {
   "cell_type": "markdown",
   "id": "ef74452d",
   "metadata": {},
   "source": [
    "Notably, the t-test produces a surprisingly low p-value, indicating that the true mean of observed redpoll flock size at feeders when there is no snow on the ground is almost certainly not equal to the true mean of flock size when there is significant snow on the ground. This result could speak to behavioral changes throughout winter conditions that drive the formation of larger groups of individuals congregating around and relying heavily on specific feeders."
   ]
  },
  {
   "cell_type": "markdown",
   "id": "41f64852",
   "metadata": {},
   "source": [
    "### Trying Logistic Regression"
   ]
  },
  {
   "cell_type": "code",
   "execution_count": 106,
   "id": "404e6378",
   "metadata": {},
   "outputs": [],
   "source": [
    "# dropping rows where snow depth was null\n",
    "join_df = join_df.dropna(subset=['housing_density'])\n",
    "# creating new category with string \n",
    "join_df['housing_density_bins'] = 'rural'\n",
    "join_df.loc[join_df['housing_density'] == 2.0, 'housing_density_bins'] = \"rural/suburban\"\n",
    "join_df.loc[join_df['housing_density'] == 3.0, 'housing_density_bins'] = \"suburban\"\n",
    "join_df.loc[join_df['housing_density'] == 4.0, 'housing_density_bins'] = \"urban\""
   ]
  },
  {
   "cell_type": "code",
   "execution_count": 107,
   "id": "66579ef7",
   "metadata": {},
   "outputs": [],
   "source": [
    "density_dummies = pd.get_dummies(join_df['housing_density_bins'], drop_first=True)"
   ]
  },
  {
   "cell_type": "code",
   "execution_count": 108,
   "id": "6bec7672",
   "metadata": {},
   "outputs": [],
   "source": [
    "join_df = pd.concat([join_df, density_dummies], axis=1)"
   ]
  },
  {
   "cell_type": "code",
   "execution_count": 109,
   "id": "e0502e94",
   "metadata": {},
   "outputs": [],
   "source": [
    "from sklearn.linear_model import LinearRegression, LogisticRegression\n",
    "from sklearn import metrics\n",
    "from sklearn.metrics import PrecisionRecallDisplay\n",
    "from sklearn.model_selection import train_test_split"
   ]
  },
  {
   "cell_type": "code",
   "execution_count": 110,
   "id": "437d81fa",
   "metadata": {},
   "outputs": [],
   "source": [
    "join_df = join_df.dropna()\n",
    "join_df['how_many_binary'] = np.where(join_df['how_many']>0, 1, 0)\n",
    "\n",
    "X = join_df[['Light_Snow', 'Heavy_Snow', 'No_Snow', \"rural/suburban\", \"suburban\", \"urban\"]]\n",
    "\n",
    "X_train, X_test, y_train, y_test = train_test_split(X, join_df[\"how_many_binary\"], test_size=0.2, random_state=2950)"
   ]
  },
  {
   "cell_type": "code",
   "execution_count": 111,
   "id": "0cd9283f",
   "metadata": {},
   "outputs": [],
   "source": [
    "model = LogisticRegression().fit(X_train,y_train)\n",
    "y_hat_train=model.predict(X_train)\n",
    "y_hat_test=model.predict(X_test)"
   ]
  },
  {
   "cell_type": "code",
   "execution_count": 112,
   "id": "f8101741",
   "metadata": {},
   "outputs": [
    {
     "name": "stdout",
     "output_type": "stream",
     "text": [
      "variables housing_density, population_atleast\n",
      "intercept: [-2.7272772]\n",
      "slope: [[ 0.04640655  0.03549854  0.02460428 -0.07606636 -0.07606636 -0.10293607\n",
      "  -0.10293607 -0.03933718 -0.03933718]]\n",
      "train accuracy: 0.9431475492751841\n",
      "test accuracy: 0.943081826370124\n"
     ]
    },
    {
     "name": "stderr",
     "output_type": "stream",
     "text": [
      "C:\\Users\\mkolb\\anaconda3\\envs\\info2950\\lib\\site-packages\\sklearn\\metrics\\_classification.py:1327: UndefinedMetricWarning: Precision is ill-defined and being set to 0.0 due to no predicted samples. Use `zero_division` parameter to control this behavior.\n",
      "  _warn_prf(average, modifier, msg_start, len(result))\n",
      "C:\\Users\\mkolb\\anaconda3\\envs\\info2950\\lib\\site-packages\\sklearn\\metrics\\_classification.py:1327: UndefinedMetricWarning: Precision is ill-defined and being set to 0.0 due to no predicted samples. Use `zero_division` parameter to control this behavior.\n",
      "  _warn_prf(average, modifier, msg_start, len(result))\n"
     ]
    },
    {
     "name": "stdout",
     "output_type": "stream",
     "text": [
      "train precision: 0.0\n",
      "test precision: 0.0\n",
      "train recall: 0.0\n",
      "test recall: 0.0\n",
      "train F1: 0.0\n",
      "test F1: 0.0\n"
     ]
    }
   ],
   "source": [
    "print(\"variables\", 'housing_density, population_atleast')\n",
    "print('intercept:', model.intercept_)\n",
    "print('slope:', model.coef_)\n",
    "train_accuracy = metrics.accuracy_score(y_train, y_hat_train)\n",
    "print('train accuracy:', train_accuracy)\n",
    "test_accuracy = metrics.accuracy_score(y_test, y_hat_test)\n",
    "print('test accuracy:', test_accuracy)\n",
    "train_precision = metrics.precision_score(y_train, y_hat_train)\n",
    "print(\"train precision:\", train_precision)\n",
    "test_precision = metrics.precision_score(y_test, y_hat_test)\n",
    "print(\"test precision:\", test_precision)\n",
    "train_recall = metrics.recall_score(y_train, y_hat_train)\n",
    "print(\"train recall:\", train_recall)\n",
    "test_recall = metrics.recall_score(y_test, y_hat_test)\n",
    "print(\"test recall:\", test_recall)\n",
    "train_F1 = metrics.f1_score(y_train, y_hat_train)\n",
    "print(\"train F1:\", train_F1)\n",
    "test_F1 = metrics.f1_score(y_test, y_hat_test)\n",
    "print(\"test F1:\", test_F1)"
   ]
  },
  {
   "cell_type": "markdown",
   "id": "4037c590",
   "metadata": {},
   "source": [
    "## Interpretation and conclusions\n",
    "What did you find over the course of your data\n",
    "analysis, and how confident are you in these conclusions? Detail your results\n",
    "more so than in the introduction, now that the reader is familiar with your\n",
    "methods and analysis. Interpret these results in the wider context of the real-life\n",
    "application from where your data hails."
   ]
  },
  {
   "cell_type": "markdown",
   "id": "8af0a8a4",
   "metadata": {},
   "source": [
    "## Questions for reviewers"
   ]
  },
  {
   "cell_type": "markdown",
   "id": "4ef045d7",
   "metadata": {},
   "source": []
  },
  {
   "cell_type": "code",
   "execution_count": 54,
   "id": "1c17e019",
   "metadata": {},
   "outputs": [
    {
     "name": "stdout",
     "output_type": "stream",
     "text": [
      "hi\n"
     ]
    }
   ],
   "source": []
  },
  {
   "cell_type": "code",
   "execution_count": null,
   "id": "3512589e",
   "metadata": {},
   "outputs": [],
   "source": []
  }
 ],
 "metadata": {
  "kernelspec": {
   "display_name": "Python 3 (ipykernel)",
   "language": "python",
   "name": "python3"
  },
  "language_info": {
   "codemirror_mode": {
    "name": "ipython",
    "version": 3
   },
   "file_extension": ".py",
   "mimetype": "text/x-python",
   "name": "python",
   "nbconvert_exporter": "python",
   "pygments_lexer": "ipython3",
   "version": "3.8.13"
  }
 },
 "nbformat": 4,
 "nbformat_minor": 5
}
