{
 "cells": [
  {
   "cell_type": "code",
   "execution_count": null,
   "id": "d048b089",
   "metadata": {},
   "outputs": [],
   "source": [
    "# importing libraries\n",
    "import pandas as pd\n",
    "import numpy as np\n",
    "import seaborn as sns\n",
    "import matplotlib.pyplot as plt\n",
    "import datetime as dt\n",
    "import scipy.stats as stats"
   ]
  },
  {
   "cell_type": "code",
   "execution_count": null,
   "id": "377569cc",
   "metadata": {},
   "outputs": [],
   "source": [
    "# importing sql\n",
    "%load_ext sql\n",
    "\n",
    "%config SqlMagic.autopandas = True\n",
    "%config SqlMagic.feedback = False\n",
    "%config SqlMagic.displaycon = False\n",
    "\n",
    "%sql duckdb:///:memory:"
   ]
  },
  {
   "cell_type": "markdown",
   "id": "77007c47",
   "metadata": {},
   "source": [
    "### Exploring snow levels and observation counts for the Common Redpoll  \n",
    "As a secondary research question, we investigated how the Common Redpoll (_Acanthis flammea_) may tend to appear in differently sized groups at feeders when different levels of snow are present. Redpolls are a small, common feeder bird that is known to often appear in groups numbering in the hundreds."
   ]
  },
  {
   "cell_type": "code",
   "execution_count": null,
   "id": "c2bc80e0",
   "metadata": {},
   "outputs": [],
   "source": [
    "redpoll_df = pd.read_csv(\"redpoll_df.csv\")\n",
    "print(\"Mean of redpoll count when snow is 0.0: \" + str(redpoll_df[redpoll_df['0.0'] == 1]['how_many'].mean()))\n",
    "print(\"Mean of redpoll count when snow is 0.001 - 5.0: \" + str(redpoll_df[redpoll_df['0.001'] == 1]['how_many'].mean()))\n",
    "print(\"Mean of redpoll count when snow is 5.0 - 15.001: \" + str(redpoll_df[redpoll_df['5.0'] == 1]['how_many'].mean()))\n",
    "print(\"Mean of redpoll count when snow is 15.001+: \" + str(redpoll_df[redpoll_df['15.001'] == 1]['how_many'].mean()))"
   ]
  },
  {
   "cell_type": "markdown",
   "id": "03d4e880",
   "metadata": {},
   "source": [
    "At first glance, it appears that the count of redpolls at feeders per observation increases with increasing snow depth. This can be verified with Welch's two-sample t-test to evaluate if the mean counts are statistically significantly different for observations at feeders with no snow compared to observations at feeders with over 15 cm of snow."
   ]
  },
  {
   "cell_type": "code",
   "execution_count": null,
   "id": "7804ce68",
   "metadata": {},
   "outputs": [],
   "source": [
    "fig, (ax1, ax2) = plt.subplots(1, 2, figsize=(15,8))\n",
    "ax1.boxplot(redpoll_df[redpoll_df['0.0'] == 1]['how_many'])\n",
    "ax2.boxplot(redpoll_df[redpoll_df['15.001'] == 1]['how_many'])\n",
    "ax1.set_title(\"Counts per observation with 0 cm of snow\")\n",
    "ax2.set_title(\"Counts per observation with 15 cm+ of snow\")"
   ]
  },
  {
   "cell_type": "code",
   "execution_count": null,
   "id": "6e6ee70c",
   "metadata": {},
   "outputs": [],
   "source": [
    "stats.ttest_ind(redpoll_df[redpoll_df['0.0'] == 1]['how_many'], redpoll_df[redpoll_df['15.001'] == 1]['how_many'], equal_var = False)"
   ]
  },
  {
   "cell_type": "markdown",
   "id": "ef74452d",
   "metadata": {},
   "source": [
    "Notably, the t-test produces a surprisingly low p-value, indicating that the true mean of observed redpoll flock size at feeders when there is no snow on the ground is almost certainly not equal to the true mean of flock size when there is significant snow on the ground. This result could speak to behavioral changes throughout winter conditions that drive the formation of larger groups of individuals congregating around and relying heavily on specific feeders."
   ]
  },
  {
   "cell_type": "code",
   "execution_count": null,
   "id": "cfc6be76",
   "metadata": {},
   "outputs": [],
   "source": []
  }
 ],
 "metadata": {
  "kernelspec": {
   "display_name": "Python 3 (ipykernel)",
   "language": "python",
   "name": "python3"
  },
  "language_info": {
   "codemirror_mode": {
    "name": "ipython",
    "version": 3
   },
   "file_extension": ".py",
   "mimetype": "text/x-python",
   "name": "python",
   "nbconvert_exporter": "python",
   "pygments_lexer": "ipython3",
   "version": "3.8.13"
  }
 },
 "nbformat": 4,
 "nbformat_minor": 5
}
